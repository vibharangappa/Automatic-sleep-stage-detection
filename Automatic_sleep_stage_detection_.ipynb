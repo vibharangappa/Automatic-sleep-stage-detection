{
  "nbformat": 4,
  "nbformat_minor": 0,
  "metadata": {
    "colab": {
      "provenance": []
    },
    "kernelspec": {
      "name": "python3",
      "display_name": "Python 3"
    },
    "language_info": {
      "name": "python"
    }
  },
  "cells": [
    {
      "cell_type": "code",
      "execution_count": null,
      "metadata": {
        "colab": {
          "base_uri": "https://localhost:8080/"
        },
        "id": "zGLtqhJgyD4L",
        "outputId": "07d19029-e14f-4be8-9692-f49515ca98f1"
      },
      "outputs": [
        {
          "output_type": "stream",
          "name": "stdout",
          "text": [
            "NVIDIA-SMI has failed because it couldn't communicate with the NVIDIA driver. Make sure that the latest NVIDIA driver is installed and running.\n",
            "\n",
            "processor\t: 0\n",
            "vendor_id\t: GenuineIntel\n",
            "cpu family\t: 6\n",
            "model\t\t: 79\n",
            "model name\t: Intel(R) Xeon(R) CPU @ 2.20GHz\n",
            "stepping\t: 0\n",
            "microcode\t: 0x1\n",
            "cpu MHz\t\t: 2199.998\n",
            "cache size\t: 56320 KB\n",
            "physical id\t: 0\n",
            "siblings\t: 2\n",
            "core id\t\t: 0\n",
            "cpu cores\t: 1\n",
            "apicid\t\t: 0\n",
            "initial apicid\t: 0\n",
            "fpu\t\t: yes\n",
            "fpu_exception\t: yes\n",
            "cpuid level\t: 13\n",
            "wp\t\t: yes\n",
            "flags\t\t: fpu vme de pse tsc msr pae mce cx8 apic sep mtrr pge mca cmov pat pse36 clflush mmx fxsr sse sse2 ss ht syscall nx pdpe1gb rdtscp lm constant_tsc rep_good nopl xtopology nonstop_tsc cpuid tsc_known_freq pni pclmulqdq ssse3 fma cx16 pcid sse4_1 sse4_2 x2apic movbe popcnt aes xsave avx f16c rdrand hypervisor lahf_lm abm 3dnowprefetch invpcid_single ssbd ibrs ibpb stibp fsgsbase tsc_adjust bmi1 hle avx2 smep bmi2 erms invpcid rtm rdseed adx smap xsaveopt arat md_clear arch_capabilities\n",
            "bugs\t\t: cpu_meltdown spectre_v1 spectre_v2 spec_store_bypass l1tf mds swapgs taa\n",
            "bogomips\t: 4399.99\n",
            "clflush size\t: 64\n",
            "cache_alignment\t: 64\n",
            "address sizes\t: 46 bits physical, 48 bits virtual\n",
            "power management:\n",
            "\n",
            "processor\t: 1\n",
            "vendor_id\t: GenuineIntel\n",
            "cpu family\t: 6\n",
            "model\t\t: 79\n",
            "model name\t: Intel(R) Xeon(R) CPU @ 2.20GHz\n",
            "stepping\t: 0\n",
            "microcode\t: 0x1\n",
            "cpu MHz\t\t: 2199.998\n",
            "cache size\t: 56320 KB\n",
            "physical id\t: 0\n",
            "siblings\t: 2\n",
            "core id\t\t: 0\n",
            "cpu cores\t: 1\n",
            "apicid\t\t: 1\n",
            "initial apicid\t: 1\n",
            "fpu\t\t: yes\n",
            "fpu_exception\t: yes\n",
            "cpuid level\t: 13\n",
            "wp\t\t: yes\n",
            "flags\t\t: fpu vme de pse tsc msr pae mce cx8 apic sep mtrr pge mca cmov pat pse36 clflush mmx fxsr sse sse2 ss ht syscall nx pdpe1gb rdtscp lm constant_tsc rep_good nopl xtopology nonstop_tsc cpuid tsc_known_freq pni pclmulqdq ssse3 fma cx16 pcid sse4_1 sse4_2 x2apic movbe popcnt aes xsave avx f16c rdrand hypervisor lahf_lm abm 3dnowprefetch invpcid_single ssbd ibrs ibpb stibp fsgsbase tsc_adjust bmi1 hle avx2 smep bmi2 erms invpcid rtm rdseed adx smap xsaveopt arat md_clear arch_capabilities\n",
            "bugs\t\t: cpu_meltdown spectre_v1 spectre_v2 spec_store_bypass l1tf mds swapgs taa\n",
            "bogomips\t: 4399.99\n",
            "clflush size\t: 64\n",
            "cache_alignment\t: 64\n",
            "address sizes\t: 46 bits physical, 48 bits virtual\n",
            "power management:\n",
            "\n"
          ]
        }
      ],
      "source": [
        "!nvidia-smi\n",
        "!cat /proc/cpuinfo"
      ]
    },
    {
      "cell_type": "code",
      "source": [
        "!pip install mne\n",
        "!pip install pandas\n",
        "!pip install numpy==1.14.0\n",
        "import numpy as np\n",
        "import matplotlib.pyplot as plt\n",
        "from datetime import datetime as dt\n",
        "import os\n",
        "import ntpath\n",
        "\n",
        "\n",
        "import mne\n",
        "from mne.datasets.sleep_physionet.age import fetch_data\n",
        "from mne import Epochs, pick_types, find_events\n",
        "from mne.io import concatenate_raws, read_raw_edf"
      ],
      "metadata": {
        "colab": {
          "base_uri": "https://localhost:8080/"
        },
        "id": "b9BJc6izyMUD",
        "outputId": "81be0b0a-39bb-4639-9daa-29ecb16e5335"
      },
      "execution_count": null,
      "outputs": [
        {
          "output_type": "stream",
          "name": "stdout",
          "text": [
            "Looking in indexes: https://pypi.org/simple, https://us-python.pkg.dev/colab-wheels/public/simple/\n",
            "Collecting mne\n",
            "  Downloading mne-1.0.3-py3-none-any.whl (7.5 MB)\n",
            "\u001b[K     |████████████████████████████████| 7.5 MB 7.0 MB/s \n",
            "\u001b[?25hRequirement already satisfied: packaging in /usr/local/lib/python3.7/dist-packages (from mne) (21.3)\n",
            "Requirement already satisfied: tqdm in /usr/local/lib/python3.7/dist-packages (from mne) (4.64.0)\n",
            "Requirement already satisfied: decorator in /usr/local/lib/python3.7/dist-packages (from mne) (4.4.2)\n",
            "Requirement already satisfied: jinja2 in /usr/local/lib/python3.7/dist-packages (from mne) (2.11.3)\n",
            "Requirement already satisfied: scipy>=1.1.0 in /usr/local/lib/python3.7/dist-packages (from mne) (1.4.1)\n",
            "Requirement already satisfied: numpy>=1.15.4 in /usr/local/lib/python3.7/dist-packages (from mne) (1.21.6)\n",
            "Requirement already satisfied: pooch>=1.5 in /usr/local/lib/python3.7/dist-packages (from mne) (1.6.0)\n",
            "Requirement already satisfied: matplotlib in /usr/local/lib/python3.7/dist-packages (from mne) (3.2.2)\n",
            "Requirement already satisfied: appdirs>=1.3.0 in /usr/local/lib/python3.7/dist-packages (from pooch>=1.5->mne) (1.4.4)\n",
            "Requirement already satisfied: requests>=2.19.0 in /usr/local/lib/python3.7/dist-packages (from pooch>=1.5->mne) (2.23.0)\n",
            "Requirement already satisfied: pyparsing!=3.0.5,>=2.0.2 in /usr/local/lib/python3.7/dist-packages (from packaging->mne) (3.0.9)\n",
            "Requirement already satisfied: urllib3!=1.25.0,!=1.25.1,<1.26,>=1.21.1 in /usr/local/lib/python3.7/dist-packages (from requests>=2.19.0->pooch>=1.5->mne) (1.24.3)\n",
            "Requirement already satisfied: chardet<4,>=3.0.2 in /usr/local/lib/python3.7/dist-packages (from requests>=2.19.0->pooch>=1.5->mne) (3.0.4)\n",
            "Requirement already satisfied: idna<3,>=2.5 in /usr/local/lib/python3.7/dist-packages (from requests>=2.19.0->pooch>=1.5->mne) (2.10)\n",
            "Requirement already satisfied: certifi>=2017.4.17 in /usr/local/lib/python3.7/dist-packages (from requests>=2.19.0->pooch>=1.5->mne) (2022.6.15)\n",
            "Requirement already satisfied: MarkupSafe>=0.23 in /usr/local/lib/python3.7/dist-packages (from jinja2->mne) (2.0.1)\n",
            "Requirement already satisfied: kiwisolver>=1.0.1 in /usr/local/lib/python3.7/dist-packages (from matplotlib->mne) (1.4.3)\n",
            "Requirement already satisfied: python-dateutil>=2.1 in /usr/local/lib/python3.7/dist-packages (from matplotlib->mne) (2.8.2)\n",
            "Requirement already satisfied: cycler>=0.10 in /usr/local/lib/python3.7/dist-packages (from matplotlib->mne) (0.11.0)\n",
            "Requirement already satisfied: typing-extensions in /usr/local/lib/python3.7/dist-packages (from kiwisolver>=1.0.1->matplotlib->mne) (4.1.1)\n",
            "Requirement already satisfied: six>=1.5 in /usr/local/lib/python3.7/dist-packages (from python-dateutil>=2.1->matplotlib->mne) (1.15.0)\n",
            "Installing collected packages: mne\n",
            "Successfully installed mne-1.0.3\n",
            "Looking in indexes: https://pypi.org/simple, https://us-python.pkg.dev/colab-wheels/public/simple/\n",
            "Requirement already satisfied: pandas in /usr/local/lib/python3.7/dist-packages (1.3.5)\n",
            "Requirement already satisfied: numpy>=1.17.3 in /usr/local/lib/python3.7/dist-packages (from pandas) (1.21.6)\n",
            "Requirement already satisfied: pytz>=2017.3 in /usr/local/lib/python3.7/dist-packages (from pandas) (2022.1)\n",
            "Requirement already satisfied: python-dateutil>=2.7.3 in /usr/local/lib/python3.7/dist-packages (from pandas) (2.8.2)\n",
            "Requirement already satisfied: six>=1.5 in /usr/local/lib/python3.7/dist-packages (from python-dateutil>=2.7.3->pandas) (1.15.0)\n",
            "Looking in indexes: https://pypi.org/simple, https://us-python.pkg.dev/colab-wheels/public/simple/\n",
            "Collecting numpy==1.14.0\n",
            "  Downloading numpy-1.14.0.zip (4.9 MB)\n",
            "\u001b[K     |████████████████████████████████| 4.9 MB 8.2 MB/s \n",
            "\u001b[?25hBuilding wheels for collected packages: numpy\n",
            "  Building wheel for numpy (setup.py) ... \u001b[?25lerror\n",
            "\u001b[31m  ERROR: Failed building wheel for numpy\u001b[0m\n",
            "\u001b[?25h  Running setup.py clean for numpy\n",
            "\u001b[31m  ERROR: Failed cleaning build dir for numpy\u001b[0m\n",
            "Failed to build numpy\n",
            "Installing collected packages: numpy\n",
            "  Attempting uninstall: numpy\n",
            "    Found existing installation: numpy 1.21.6\n",
            "    Uninstalling numpy-1.21.6:\n",
            "      Successfully uninstalled numpy-1.21.6\n",
            "    Running setup.py install for numpy ... \u001b[?25l\u001b[?25herror\n",
            "  Rolling back uninstall of numpy\n",
            "  Moving to /usr/bin/f2py\n",
            "   from /tmp/pip-uninstall-s6nzwz_5/f2py\n",
            "  Moving to /usr/local/bin/f2py\n",
            "   from /tmp/pip-uninstall-gubrb1k3/f2py\n",
            "  Moving to /usr/local/bin/f2py3\n",
            "   from /tmp/pip-uninstall-gubrb1k3/f2py3\n",
            "  Moving to /usr/local/bin/f2py3.7\n",
            "   from /tmp/pip-uninstall-gubrb1k3/f2py3.7\n",
            "  Moving to /usr/local/lib/python3.7/dist-packages/numpy-1.21.6.dist-info/\n",
            "   from /usr/local/lib/python3.7/dist-packages/~umpy-1.21.6.dist-info\n",
            "  Moving to /usr/local/lib/python3.7/dist-packages/numpy.libs/\n",
            "   from /usr/local/lib/python3.7/dist-packages/~umpy.libs\n",
            "  Moving to /usr/local/lib/python3.7/dist-packages/numpy/\n",
            "   from /usr/local/lib/python3.7/dist-packages/~umpy\n",
            "\u001b[31mERROR: Command errored out with exit status 1: /usr/bin/python3 -u -c 'import io, os, sys, setuptools, tokenize; sys.argv[0] = '\"'\"'/tmp/pip-install-_v0lk3ie/numpy_2e265aa5d2ec46a5adb003644a1d2751/setup.py'\"'\"'; __file__='\"'\"'/tmp/pip-install-_v0lk3ie/numpy_2e265aa5d2ec46a5adb003644a1d2751/setup.py'\"'\"';f = getattr(tokenize, '\"'\"'open'\"'\"', open)(__file__) if os.path.exists(__file__) else io.StringIO('\"'\"'from setuptools import setup; setup()'\"'\"');code = f.read().replace('\"'\"'\\r\\n'\"'\"', '\"'\"'\\n'\"'\"');f.close();exec(compile(code, __file__, '\"'\"'exec'\"'\"'))' install --record /tmp/pip-record-dbun2kjl/install-record.txt --single-version-externally-managed --compile --install-headers /usr/local/include/python3.7/numpy Check the logs for full command output.\u001b[0m\n"
          ]
        }
      ]
    },
    {
      "cell_type": "code",
      "source": [
        "[subject] = fetch_data(subjects=[0], recording=[1] )\n",
        "\n",
        "\n",
        "#Mapping of the channels\n",
        "mapping = {'EOG horizontal': 'eog',\n",
        "           'Resp oro-nasal': 'misc',\n",
        "           'EMG submental': 'misc',\n",
        "           'Temp rectal': 'misc',\n",
        "           'Event marker': 'misc'}\n",
        "\n",
        "\n",
        "# creating raw_train object with the *PSG.edf file of fetched data.\n",
        "raw_train = mne.io.read_raw_edf(subject[0])\n",
        "\n",
        "#The annot_train object has the annotations (labels) to be extracted from *Hypnogram.edf file of fetched data.\n",
        "annot_train = mne.read_annotations(subject[1])\n",
        "raw_train.set_annotations(annot_train, emit_warning=False)\n",
        "raw_train.set_channel_types(mapping) #mapeo de canales\n",
        "\n",
        "# plot some data\n",
        "raw_train.plot(duration=30,scalings='auto', start=300 )\n"
      ],
      "metadata": {
        "colab": {
          "base_uri": "https://localhost:8080/",
          "height": 1000
        },
        "id": "N-Ib9f2syPyB",
        "outputId": "607aefaa-6572-4d7d-d379-b8579cbc572d"
      },
      "execution_count": null,
      "outputs": [
        {
          "output_type": "stream",
          "name": "stdout",
          "text": [
            "Using default location ~/mne_data for PHYSIONET_SLEEP...\n",
            "Creating ~/mne_data\n"
          ]
        },
        {
          "output_type": "stream",
          "name": "stderr",
          "text": [
            "Downloading data from 'https://physionet.org/physiobank/database/sleep-edfx/sleep-cassette//SC4001E0-PSG.edf' to file '/root/mne_data/physionet-sleep-data/SC4001E0-PSG.edf'.\n",
            "Downloading data from 'https://physionet.org/physiobank/database/sleep-edfx/sleep-cassette//SC4001EC-Hypnogram.edf' to file '/root/mne_data/physionet-sleep-data/SC4001EC-Hypnogram.edf'.\n"
          ]
        },
        {
          "output_type": "stream",
          "name": "stdout",
          "text": [
            "Extracting EDF parameters from /root/mne_data/physionet-sleep-data/SC4001E0-PSG.edf...\n",
            "EDF file detected\n",
            "Setting channel info structure...\n",
            "Creating raw.info structure...\n",
            "Using matplotlib as 2D backend.\n",
            "Opening raw-browser...\n"
          ]
        },
        {
          "output_type": "stream",
          "name": "stderr",
          "text": [
            "/usr/local/lib/python3.7/dist-packages/matplotlib/colors.py:263: VisibleDeprecationWarning: Creating an ndarray from ragged nested sequences (which is a list-or-tuple of lists-or-tuples-or ndarrays with different lengths or shapes) is deprecated. If you meant to do this, you must specify 'dtype=object' when creating the ndarray.\n",
            "  c = np.array(c)\n"
          ]
        },
        {
          "output_type": "display_data",
          "data": {
            "text/plain": [
              "<MNEBrowseFigure size 576x576 with 4 Axes>"
            ],
            "image/png": "[encoded data removed]"
          },
          "metadata": {
            "needs_background": "light"
          }
        },
        {
          "output_type": "execute_result",
          "data": {
            "text/plain": [
              "<MNEBrowseFigure size 576x576 with 4 Axes>"
            ],
            "image/png": "[encoded data removed]"
          },
          "metadata": {},
          "execution_count": 3
        }
      ]
    },
    {
      "cell_type": "code",
      "source": [
        "print(raw_train.info)\n",
        "\n",
        "#Sampling rate is an important variable\n",
        "sampling_rate = raw_train.info['sfreq']\n",
        "\n",
        "print('sampling_rate = {}'.format(sampling_rate))"
      ],
      "metadata": {
        "colab": {
          "base_uri": "https://localhost:8080/"
        },
        "id": "7AbPC0X7yTMX",
        "outputId": "4f95c193-3f05-4dc6-e7c9-f0f947ca137d"
      },
      "execution_count": null,
      "outputs": [
        {
          "output_type": "stream",
          "name": "stdout",
          "text": [
            "<Info | 7 non-empty values\n",
            " bads: []\n",
            " ch_names: EEG Fpz-Cz, EEG Pz-Oz, EOG horizontal, Resp oro-nasal, EMG ...\n",
            " chs: 2 EEG, 1 EOG, 4 misc\n",
            " custom_ref_applied: False\n",
            " highpass: 0.5 Hz\n",
            " lowpass: 100.0 Hz\n",
            " meas_date: 1989-04-24 16:13:00 UTC\n",
            " nchan: 7\n",
            " projs: []\n",
            " sfreq: 100.0 Hz\n",
            ">\n",
            "sampling_rate = 100.0\n"
          ]
        }
      ]
    },
    {
      "cell_type": "code",
      "source": [
        "import re, datetime, operator\n",
        "import numpy as np\n",
        "from collections import namedtuple\n",
        "from builtins import str\n",
        "\n",
        "EVENT_CHANNEL = 'EDF Annotations'\n",
        "\n",
        "class EDFEndOfData(BaseException): pass\n",
        "\n",
        "def tal(tal_str):\n",
        "  exp = '(?P<onset>[+\\-]\\d+(?:\\.\\d*)?)' + \\\n",
        "    '(?:\\x15(?P<duration>\\d+(?:\\.\\d*)?))?' + \\\n",
        "    '(\\x14(?P<annotation>[^\\x00]*))?' + \\\n",
        "    '(?:\\x14\\x00)'\n",
        "\n",
        "  def annotation_to_list(annotation):\n",
        "    return annotation.split('\\x14') if annotation else [] #str(annotation, 'latin_1')\n",
        "\n",
        "  def parse(dic):\n",
        "    return (\n",
        "      float(dic['onset']),\n",
        "      float(dic['duration']) if dic['duration'] else 0.,\n",
        "      annotation_to_list(dic['annotation']))\n",
        "\n",
        "  return [parse(m.groupdict()) for m in re.finditer(exp, tal_str)]\n",
        "\n",
        "\n",
        "def edf_header(f):\n",
        "  h = {}\n",
        "  assert f.tell() == 0  # check file position\n",
        "  assert f.read(8) == '0       '\n",
        "\n",
        "  # recording info)\n",
        "  h['local_subject_id'] = f.read(80).strip()\n",
        "  h['local_recording_id'] = f.read(80).strip()\n",
        "\n",
        "  # parse timestamp\n",
        "  (day, month, year) = [int(x) for x in re.findall('(\\d+)', f.read(8))]\n",
        "  (hour, minute, sec)= [int(x) for x in re.findall('(\\d+)', f.read(8))]\n",
        "  h['date_time'] = str(datetime.datetime(year + 2000, month, day,\n",
        "    hour, minute, sec))\n",
        "\n",
        "  # misc\n",
        "  header_nbytes = int(f.read(8))\n",
        "  subtype = f.read(44)[:5]\n",
        "  h['EDF+'] = subtype in ['EDF+C', 'EDF+D']\n",
        "  h['contiguous'] = subtype != 'EDF+D'\n",
        "  h['n_records'] = int(f.read(8))\n",
        "  h['record_length'] = float(f.read(8))  # in seconds\n",
        "  nchannels = h['n_channels'] = int(f.read(4))\n",
        "\n",
        "  # read channel info\n",
        "  channels = range(h['n_channels'])\n",
        "  h['label'] = [f.read(16).strip() for n in channels]\n",
        "  h['transducer_type'] = [f.read(80).strip() for n in channels]\n",
        "  h['units'] = [f.read(8).strip() for n in channels]\n",
        "  h['physical_min'] = np.asarray([float(f.read(8)) for n in channels])\n",
        "  h['physical_max'] = np.asarray([float(f.read(8)) for n in channels])\n",
        "  h['digital_min'] = np.asarray([float(f.read(8)) for n in channels])\n",
        "  h['digital_max'] = np.asarray([float(f.read(8)) for n in channels])\n",
        "  h['prefiltering'] = [f.read(80).strip() for n in channels]\n",
        "  h['n_samples_per_record'] = [int(f.read(8)) for n in channels]\n",
        "  f.read(32 * nchannels)  # reserved\n",
        "\n",
        "  assert f.tell() == header_nbytes\n",
        "  return h\n",
        "\n",
        "\n",
        "class BaseEDFReader:\n",
        "  def __init__(self, file):\n",
        "    self.file = file\n",
        "\n",
        "\n",
        "  def read_header(self):\n",
        "    self.header = h = edf_header(self.file)\n",
        "\n",
        "    # calculate ranges for rescaling\n",
        "    self.dig_min = h['digital_min']\n",
        "    self.phys_min = h['physical_min']\n",
        "    phys_range = h['physical_max'] - h['physical_min']\n",
        "    dig_range = h['digital_max'] - h['digital_min']\n",
        "    assert np.all(phys_range > 0)\n",
        "    assert np.all(dig_range > 0)\n",
        "    self.gain = phys_range / dig_range\n",
        "\n",
        "\n",
        "  def read_raw_record(self):\n",
        "    result = []\n",
        "    for nsamp in self.header['n_samples_per_record']:\n",
        "      samples = self.file.read(nsamp * 2)\n",
        "      if len(samples) != nsamp * 2:\n",
        "        raise EDFEndOfData\n",
        "      result.append(samples)\n",
        "    return result\n",
        "\n",
        "\n",
        "  def convert_record(self, raw_record):\n",
        "    h = self.header\n",
        "    dig_min, phys_min, gain = self.dig_min, self.phys_min, self.gain\n",
        "    time = float('nan')\n",
        "    signals = []\n",
        "    events = []\n",
        "    for (i, samples) in enumerate(raw_record):\n",
        "      if h['label'][i] == EVENT_CHANNEL:\n",
        "        ann = tal(samples)\n",
        "        time = ann[0][0]\n",
        "        events.extend(ann[1:])\n",
        "        # print(i, samples)\n",
        "        # exit()\n",
        "      else:\n",
        "        # 2-byte little-endian integers\n",
        "        dig = np.fromstring(samples, '<i2').astype(np.float32)\n",
        "        phys = (dig - dig_min[i]) * gain[i] + phys_min[i]\n",
        "        signals.append(phys)\n",
        "\n",
        "    return time, signals, events\n",
        "\n",
        "\n",
        "  def read_record(self):\n",
        "    return self.convert_record(self.read_raw_record())\n",
        "\n",
        "\n",
        "  def records(self):\n",
        "    try:\n",
        "      while True:\n",
        "        yield self.read_record()\n",
        "    except EDFEndOfData:\n",
        "      pass\n",
        "\n",
        "\n",
        "def load_edf(edffile):\n",
        "\n",
        "  if isinstance(edffile, basestring):\n",
        "    with open(edffile, 'rb') as f:\n",
        "      return load_edf(f)  # convert filename to file\n",
        "\n",
        "  reader = BaseEDFReader(edffile)\n",
        "  reader.read_header()\n",
        "\n",
        "  h = reader.header\n",
        "\n",
        "  # get sample rate info\n",
        "  nsamp = np.unique(\n",
        "    [n for (l, n) in zip(h['label'], h['n_samples_per_record'])\n",
        "    if l != EVENT_CHANNEL])\n",
        "  assert nsamp.size == 1, 'Multiple sample rates not supported!'\n",
        "  sample_rate = float(nsamp[0]) / h['record_length']\n",
        "\n",
        "  rectime, X, annotations = zip(*reader.records())\n",
        "  X = np.hstack(X)\n",
        "  annotations = reduce(operator.add, annotations)\n",
        "  chan_lab = [lab for lab in reader.header['label'] if lab != EVENT_CHANNEL]\n",
        "\n",
        "  # create timestamps\n",
        "  if reader.header['contiguous']:\n",
        "    time = np.arange(X.shape[1]) / sample_rate\n",
        "  else:\n",
        "    reclen = reader.header['record_length']\n",
        "    within_rec_time = np.linspace(0, reclen, nsamp, endpoint=False)\n",
        "    time = np.hstack([t + within_rec_time for t in rectime])\n",
        "\n",
        "  tup = namedtuple('EDF', 'X sample_rate chan_lab time annotations')\n",
        "  return tup(X, sample_rate, chan_lab, time, annotations)"
      ],
      "metadata": {
        "id": "Uu8bxKpvyWlQ"
      },
      "execution_count": null,
      "outputs": []
    },
    {
      "cell_type": "code",
      "source": [
        "from google.colab import drive\n",
        "drive.mount('/content/gdrive')"
      ],
      "metadata": {
        "colab": {
          "base_uri": "https://localhost:8080/"
        },
        "id": "8GeUbhfmyYSU",
        "outputId": "7b625b27-8333-46b8-e435-92ca1c3f3cd6"
      },
      "execution_count": null,
      "outputs": [
        {
          "output_type": "stream",
          "name": "stdout",
          "text": [
            "Mounted at /content/gdrive\n"
          ]
        }
      ]
    },
    {
      "cell_type": "code",
      "source": [
        "input_data_path = '/content/drive/MyDrive/dataset/test'\n",
        "\n",
        "\n",
        "# we iterate over all recordings and subjects\n",
        "for r in [1,2]:\n",
        "  for i in [i for i in np.arange(20)]:\n",
        "\n",
        "    if (i == 13) & (r ==2):\n",
        "      continue\n",
        "\n",
        "\n",
        "    [s1_files] = fetch_data(subjects=[i], recording=[r])\n",
        "    select_ch = 'EEG Fpz-Cz'\n",
        "    print('Files loaded: {} and {}'.format(s1_files[0], s1_files[1]))\n",
        "\n",
        "    #We generate the object with signal data for each recording\n",
        "    raw = read_raw_edf(s1_files[0], preload=True, stim_channel=None)\n",
        "    sampling_rate = raw.info['sfreq']\n",
        "    raw_ch_df = raw.to_data_frame(scalings=100.0)[select_ch] #default=\"EEG Fpz-Cz\",\n",
        "\n",
        "    raw_ch_df = raw_ch_df.to_frame()\n",
        "    raw_ch_df.set_index(np.arange(len(raw_ch_df)))\n",
        "\n",
        "\n",
        "    # we obtain the recording's metadata, or header.\n",
        "    f = open(s1_files[0], 'r', encoding = 'latin_1')\n",
        "    reader_raw = BaseEDFReader(f)\n",
        "    reader_raw.read_header()\n",
        "    h_raw = reader_raw.header\n",
        "    f.close()\n",
        "    raw_start_dt = dt.strptime(h_raw['date_time'], \"%Y-%m-%d %H:%M:%S\")\n",
        "\n",
        "    f = open(s1_files[1], 'r')\n",
        "    reader_ann = BaseEDFReader(f)\n",
        "    reader_ann.read_header()\n",
        "    h_ann = reader_ann.header\n",
        "\n",
        "    _, _, ann = zip(*reader_ann.records())\n",
        "    f.close()\n",
        "    ann_start_dt = dt.strptime(h_ann['date_time'], \"%Y-%m-%d %H:%M:%S\")\n",
        "\n",
        "    assert raw_start_dt == ann_start_dt\n",
        "\n",
        "    # Label values\n",
        "    W = 0\n",
        "    N1 = 1\n",
        "    N2 = 2\n",
        "    N3 = 3\n",
        "    REM = 4\n",
        "    UNKNOWN = 5\n",
        "\n",
        "    stage_dict = { \"W\": W, \"N1\": N1, \"N2\": N2, \"N3\": N3, \"REM\": REM, \"UNKNOWN\": UNKNOWN }\n",
        "    class_dict = { 0: \"W\", 1: \"N1\",  2: \"N2\", 3: \"N3\", 4: \"REM\", 5: \"UNKNOWN\" }\n",
        "    ann2label = {  \"Sleep stage W\": 0, \"Sleep stage 1\": 1,\"Sleep stage 2\": 2, \"Sleep stage 3\": 3,\n",
        "                \"Sleep stage 4\": 3,  \"Sleep stage R\": 4, \"Sleep stage ?\": 5, \"Movement time\": 5 }\n",
        "    EPOCH_SEC_SIZE = 30\n",
        "\n",
        "\n",
        "    # Vector with indices and labels\n",
        "    remove_idx = []    # indicies of the data that will be removed\n",
        "    labels = []        # indicies of the data that have labels\n",
        "    label_idx = []\n",
        "    for a in ann[0]:\n",
        "      onset_sec, duration_sec, ann_char = a\n",
        "      ann_str = \"\".join(ann_char)\n",
        "      label = ann2label[ann_str]\n",
        "      if label != UNKNOWN:\n",
        "        if duration_sec % EPOCH_SEC_SIZE != 0:\n",
        "          raise Exception(\"Something wrong\")\n",
        "        duration_epoch = int(duration_sec / EPOCH_SEC_SIZE)\n",
        "        label_epoch = np.ones(duration_epoch, dtype=np.int) * label\n",
        "        labels.append(label_epoch)\n",
        "        idx = int(onset_sec * sampling_rate) + np.arange(duration_sec * sampling_rate, dtype=np.int)\n",
        "        label_idx.append(idx)\n",
        "\n",
        "      else:\n",
        "        idx = int(onset_sec * sampling_rate) + np.arange(duration_sec * sampling_rate, dtype=np.int)\n",
        "        remove_idx.append(idx)\n",
        "\n",
        "    labels = np.hstack(labels)\n",
        "\n",
        "\n",
        "    if len(remove_idx) > 0:\n",
        "      remove_idx = np.hstack(remove_idx)\n",
        "      select_idx = np.setdiff1d(np.arange(len(raw_ch_df)), remove_idx)\n",
        "    else:\n",
        "      select_idx = np.arange(len(raw_ch_df))\n",
        "\n",
        "    # Only valid labels\n",
        "    label_idx = np.hstack(label_idx)\n",
        "    select_idx = np.intersect1d(select_idx, label_idx)\n",
        "\n",
        "\n",
        "    # If necessary, extra indices are removed\n",
        "    if len(label_idx) > len(select_idx):\n",
        "        extra_idx = np.setdiff1d(label_idx, select_idx)\n",
        "        # Vector tail is trimmed\n",
        "        if np.all(extra_idx > select_idx[-1]):\n",
        "            n_trims = len(select_idx) % int(EPOCH_SEC_SIZE * sampling_rate)\n",
        "            n_label_trims = int(math.ceil(n_trims / (EPOCH_SEC_SIZE * sampling_rate)))\n",
        "            select_idx = select_idx[:-n_trims]\n",
        "            labels = labels[:-n_label_trims]\n",
        "\n",
        "\n",
        "    raw_ch = raw_ch_df.values[select_idx]\n",
        "\n",
        "    # Vector should be splittable into 30 second periods\n",
        "    if len(raw_ch) % (EPOCH_SEC_SIZE * sampling_rate) != 0:\n",
        "        raise Exception(\"Something wrong\")\n",
        "    n_epochs = len(raw_ch) / (EPOCH_SEC_SIZE * sampling_rate)\n",
        "\n",
        "    x = np.asarray(np.split(raw_ch, n_epochs)).astype(np.float32)\n",
        "    y = labels.astype(np.int32)\n",
        "\n",
        "    assert len(x) == len(y)\n",
        "\n",
        "    # We keep only section that correspond to sleep.\n",
        "    w_edge_mins = 30\n",
        "    nw_idx = np.where(y != stage_dict[\"W\"])[0]\n",
        "    start_idx = nw_idx[0] - (w_edge_mins * 2) #60  epochs before sleep onset\n",
        "    end_idx = nw_idx[-1] + (w_edge_mins * 2) # 60 epochs after sleep is finished\n",
        "    if start_idx < 0: start_idx = 0\n",
        "    if end_idx >= len(y): end_idx = len(y) - 1\n",
        "    select2_idx = np.arange(start_idx, end_idx+1)\n",
        "    raw_datapoint = x.shape[0]\n",
        "    x = x[select2_idx]\n",
        "    selected_datapoints = x.shape[0]\n",
        "    y = y[select2_idx]\n",
        "    cal =  (raw_datapoint - selected_datapoints )*100/raw_datapoint\n",
        "\n",
        "    #print(\"Register went down from {} to {} or {} percent\".format(raw_datapoint, selected_datapoints, np.round(cal,2)))\n",
        "\n",
        "\n",
        "    filename = ntpath.basename(s1_files[0]).replace(\"-PSG.edf\", \".npz\")\n",
        "    save_dict = {\n",
        "        \"x\": x,\n",
        "        \"y\": y,\n",
        "        \"fs\": sampling_rate,\n",
        "        \"ch_label\": select_ch,\n",
        "        \"header_raw\": h_raw,\n",
        "        \"header_annotation\": h_ann,\n",
        "    }\n",
        "\n",
        "\n",
        "\n",
        "    np.savez(os.path.join('/content/gdrive/MyDrive/dataset/test, SC4001E0.npz'), **save_dict)\n",
        "\n",
        "    print('File {} was processed and saved'.format(s1_files[0]))\n",
        "\n",
        "    print(\"\\n=======================================\\n\")"
      ],
      "metadata": {
        "colab": {
          "base_uri": "https://localhost:8080/"
        },
        "id": "a5MyV_MKyYyL",
        "outputId": "a6700e96-2fb9-45ae-dd39-8c80225a0f66"
      },
      "execution_count": null,
      "outputs": [
        {
          "output_type": "stream",
          "name": "stdout",
          "text": [
            "Using default location ~/mne_data for PHYSIONET_SLEEP...\n",
            "Files loaded: /root/mne_data/physionet-sleep-data/SC4001E0-PSG.edf and /root/mne_data/physionet-sleep-data/SC4001EC-Hypnogram.edf\n",
            "Extracting EDF parameters from /root/mne_data/physionet-sleep-data/SC4001E0-PSG.edf...\n",
            "EDF file detected\n",
            "Setting channel info structure...\n",
            "Creating raw.info structure...\n",
            "Reading 0 ... 7949999  =      0.000 ... 79499.990 secs...\n"
          ]
        },
        {
          "output_type": "stream",
          "name": "stderr",
          "text": [
            "/usr/local/lib/python3.7/dist-packages/ipykernel_launcher.py:71: DeprecationWarning: `np.int` is a deprecated alias for the builtin `int`. To silence this warning, use `int` by itself. Doing this will not modify any behavior and is safe. When replacing `np.int`, you may wish to use e.g. `np.int64` or `np.int32` to specify the precision. If you wish to review your current use, check the release note link for additional information.\n",
            "Deprecated in NumPy 1.20; for more details and guidance: https://numpy.org/devdocs/release/1.20.0-notes.html#deprecations\n",
            "/usr/local/lib/python3.7/dist-packages/ipykernel_launcher.py:73: DeprecationWarning: `np.int` is a deprecated alias for the builtin `int`. To silence this warning, use `int` by itself. Doing this will not modify any behavior and is safe. When replacing `np.int`, you may wish to use e.g. `np.int64` or `np.int32` to specify the precision. If you wish to review your current use, check the release note link for additional information.\n",
            "Deprecated in NumPy 1.20; for more details and guidance: https://numpy.org/devdocs/release/1.20.0-notes.html#deprecations\n",
            "/usr/local/lib/python3.7/dist-packages/ipykernel_launcher.py:77: DeprecationWarning: `np.int` is a deprecated alias for the builtin `int`. To silence this warning, use `int` by itself. Doing this will not modify any behavior and is safe. When replacing `np.int`, you may wish to use e.g. `np.int64` or `np.int32` to specify the precision. If you wish to review your current use, check the release note link for additional information.\n",
            "Deprecated in NumPy 1.20; for more details and guidance: https://numpy.org/devdocs/release/1.20.0-notes.html#deprecations\n"
          ]
        },
        {
          "output_type": "stream",
          "name": "stdout",
          "text": [
            "File /root/mne_data/physionet-sleep-data/SC4001E0-PSG.edf was processed and saved\n",
            "\n",
            "=======================================\n",
            "\n",
            "Using default location ~/mne_data for PHYSIONET_SLEEP...\n"
          ]
        },
        {
          "output_type": "stream",
          "name": "stderr",
          "text": [
            "Downloading data from 'https://physionet.org/physiobank/database/sleep-edfx/sleep-cassette//SC4011E0-PSG.edf' to file '/root/mne_data/physionet-sleep-data/SC4011E0-PSG.edf'.\n",
            "Downloading data from 'https://physionet.org/physiobank/database/sleep-edfx/sleep-cassette//SC4011EH-Hypnogram.edf' to file '/root/mne_data/physionet-sleep-data/SC4011EH-Hypnogram.edf'.\n"
          ]
        },
        {
          "output_type": "stream",
          "name": "stdout",
          "text": [
            "Files loaded: /root/mne_data/physionet-sleep-data/SC4011E0-PSG.edf and /root/mne_data/physionet-sleep-data/SC4011EH-Hypnogram.edf\n",
            "Extracting EDF parameters from /root/mne_data/physionet-sleep-data/SC4011E0-PSG.edf...\n",
            "EDF file detected\n",
            "Setting channel info structure...\n",
            "Creating raw.info structure...\n",
            "Reading 0 ... 8405999  =      0.000 ... 84059.990 secs...\n",
            "File /root/mne_data/physionet-sleep-data/SC4011E0-PSG.edf was processed and saved\n",
            "\n",
            "=======================================\n",
            "\n",
            "Using default location ~/mne_data for PHYSIONET_SLEEP...\n"
          ]
        },
        {
          "output_type": "stream",
          "name": "stderr",
          "text": [
            "Downloading data from 'https://physionet.org/physiobank/database/sleep-edfx/sleep-cassette//SC4021E0-PSG.edf' to file '/root/mne_data/physionet-sleep-data/SC4021E0-PSG.edf'.\n",
            "Downloading data from 'https://physionet.org/physiobank/database/sleep-edfx/sleep-cassette//SC4021EH-Hypnogram.edf' to file '/root/mne_data/physionet-sleep-data/SC4021EH-Hypnogram.edf'.\n"
          ]
        },
        {
          "output_type": "stream",
          "name": "stdout",
          "text": [
            "Files loaded: /root/mne_data/physionet-sleep-data/SC4021E0-PSG.edf and /root/mne_data/physionet-sleep-data/SC4021EH-Hypnogram.edf\n",
            "Extracting EDF parameters from /root/mne_data/physionet-sleep-data/SC4021E0-PSG.edf...\n",
            "EDF file detected\n",
            "Setting channel info structure...\n",
            "Creating raw.info structure...\n",
            "Reading 0 ... 8411999  =      0.000 ... 84119.990 secs...\n",
            "File /root/mne_data/physionet-sleep-data/SC4021E0-PSG.edf was processed and saved\n",
            "\n",
            "=======================================\n",
            "\n",
            "Using default location ~/mne_data for PHYSIONET_SLEEP...\n"
          ]
        },
        {
          "output_type": "stream",
          "name": "stderr",
          "text": [
            "Downloading data from 'https://physionet.org/physiobank/database/sleep-edfx/sleep-cassette//SC4031E0-PSG.edf' to file '/root/mne_data/physionet-sleep-data/SC4031E0-PSG.edf'.\n",
            "Downloading data from 'https://physionet.org/physiobank/database/sleep-edfx/sleep-cassette//SC4031EC-Hypnogram.edf' to file '/root/mne_data/physionet-sleep-data/SC4031EC-Hypnogram.edf'.\n"
          ]
        },
        {
          "output_type": "stream",
          "name": "stdout",
          "text": [
            "Files loaded: /root/mne_data/physionet-sleep-data/SC4031E0-PSG.edf and /root/mne_data/physionet-sleep-data/SC4031EC-Hypnogram.edf\n",
            "Extracting EDF parameters from /root/mne_data/physionet-sleep-data/SC4031E0-PSG.edf...\n",
            "EDF file detected\n",
            "Setting channel info structure...\n",
            "Creating raw.info structure...\n",
            "Reading 0 ... 8459999  =      0.000 ... 84599.990 secs...\n",
            "File /root/mne_data/physionet-sleep-data/SC4031E0-PSG.edf was processed and saved\n",
            "\n",
            "=======================================\n",
            "\n",
            "Using default location ~/mne_data for PHYSIONET_SLEEP...\n"
          ]
        },
        {
          "output_type": "stream",
          "name": "stderr",
          "text": [
            "Downloading data from 'https://physionet.org/physiobank/database/sleep-edfx/sleep-cassette//SC4041E0-PSG.edf' to file '/root/mne_data/physionet-sleep-data/SC4041E0-PSG.edf'.\n",
            "Downloading data from 'https://physionet.org/physiobank/database/sleep-edfx/sleep-cassette//SC4041EC-Hypnogram.edf' to file '/root/mne_data/physionet-sleep-data/SC4041EC-Hypnogram.edf'.\n"
          ]
        },
        {
          "output_type": "stream",
          "name": "stdout",
          "text": [
            "Files loaded: /root/mne_data/physionet-sleep-data/SC4041E0-PSG.edf and /root/mne_data/physionet-sleep-data/SC4041EC-Hypnogram.edf\n",
            "Extracting EDF parameters from /root/mne_data/physionet-sleep-data/SC4041E0-PSG.edf...\n",
            "EDF file detected\n",
            "Setting channel info structure...\n",
            "Creating raw.info structure...\n",
            "Reading 0 ... 7709999  =      0.000 ... 77099.990 secs...\n",
            "File /root/mne_data/physionet-sleep-data/SC4041E0-PSG.edf was processed and saved\n",
            "\n",
            "=======================================\n",
            "\n",
            "Using default location ~/mne_data for PHYSIONET_SLEEP...\n"
          ]
        },
        {
          "output_type": "stream",
          "name": "stderr",
          "text": [
            "Downloading data from 'https://physionet.org/physiobank/database/sleep-edfx/sleep-cassette//SC4051E0-PSG.edf' to file '/root/mne_data/physionet-sleep-data/SC4051E0-PSG.edf'.\n",
            "Downloading data from 'https://physionet.org/physiobank/database/sleep-edfx/sleep-cassette//SC4051EC-Hypnogram.edf' to file '/root/mne_data/physionet-sleep-data/SC4051EC-Hypnogram.edf'.\n"
          ]
        },
        {
          "output_type": "stream",
          "name": "stdout",
          "text": [
            "Files loaded: /root/mne_data/physionet-sleep-data/SC4051E0-PSG.edf and /root/mne_data/physionet-sleep-data/SC4051EC-Hypnogram.edf\n",
            "Extracting EDF parameters from /root/mne_data/physionet-sleep-data/SC4051E0-PSG.edf...\n",
            "EDF file detected\n",
            "Setting channel info structure...\n",
            "Creating raw.info structure...\n",
            "Reading 0 ... 8165999  =      0.000 ... 81659.990 secs...\n",
            "File /root/mne_data/physionet-sleep-data/SC4051E0-PSG.edf was processed and saved\n",
            "\n",
            "=======================================\n",
            "\n",
            "Using default location ~/mne_data for PHYSIONET_SLEEP...\n"
          ]
        },
        {
          "output_type": "stream",
          "name": "stderr",
          "text": [
            "Downloading data from 'https://physionet.org/physiobank/database/sleep-edfx/sleep-cassette//SC4061E0-PSG.edf' to file '/root/mne_data/physionet-sleep-data/SC4061E0-PSG.edf'.\n",
            "Downloading data from 'https://physionet.org/physiobank/database/sleep-edfx/sleep-cassette//SC4061EC-Hypnogram.edf' to file '/root/mne_data/physionet-sleep-data/SC4061EC-Hypnogram.edf'.\n"
          ]
        },
        {
          "output_type": "stream",
          "name": "stdout",
          "text": [
            "Files loaded: /root/mne_data/physionet-sleep-data/SC4061E0-PSG.edf and /root/mne_data/physionet-sleep-data/SC4061EC-Hypnogram.edf\n",
            "Extracting EDF parameters from /root/mne_data/physionet-sleep-data/SC4061E0-PSG.edf...\n",
            "EDF file detected\n",
            "Setting channel info structure...\n",
            "Creating raw.info structure...\n",
            "Reading 0 ... 8309999  =      0.000 ... 83099.990 secs...\n",
            "File /root/mne_data/physionet-sleep-data/SC4061E0-PSG.edf was processed and saved\n",
            "\n",
            "=======================================\n",
            "\n",
            "Using default location ~/mne_data for PHYSIONET_SLEEP...\n"
          ]
        },
        {
          "output_type": "stream",
          "name": "stderr",
          "text": [
            "Downloading data from 'https://physionet.org/physiobank/database/sleep-edfx/sleep-cassette//SC4071E0-PSG.edf' to file '/root/mne_data/physionet-sleep-data/SC4071E0-PSG.edf'.\n",
            "Downloading data from 'https://physionet.org/physiobank/database/sleep-edfx/sleep-cassette//SC4071EC-Hypnogram.edf' to file '/root/mne_data/physionet-sleep-data/SC4071EC-Hypnogram.edf'.\n"
          ]
        },
        {
          "output_type": "stream",
          "name": "stdout",
          "text": [
            "Files loaded: /root/mne_data/physionet-sleep-data/SC4071E0-PSG.edf and /root/mne_data/physionet-sleep-data/SC4071EC-Hypnogram.edf\n",
            "Extracting EDF parameters from /root/mne_data/physionet-sleep-data/SC4071E0-PSG.edf...\n",
            "EDF file detected\n",
            "Setting channel info structure...\n",
            "Creating raw.info structure...\n",
            "Reading 0 ... 8429999  =      0.000 ... 84299.990 secs...\n",
            "File /root/mne_data/physionet-sleep-data/SC4071E0-PSG.edf was processed and saved\n",
            "\n",
            "=======================================\n",
            "\n",
            "Using default location ~/mne_data for PHYSIONET_SLEEP...\n"
          ]
        },
        {
          "output_type": "stream",
          "name": "stderr",
          "text": [
            "Downloading data from 'https://physionet.org/physiobank/database/sleep-edfx/sleep-cassette//SC4081E0-PSG.edf' to file '/root/mne_data/physionet-sleep-data/SC4081E0-PSG.edf'.\n",
            "Downloading data from 'https://physionet.org/physiobank/database/sleep-edfx/sleep-cassette//SC4081EC-Hypnogram.edf' to file '/root/mne_data/physionet-sleep-data/SC4081EC-Hypnogram.edf'.\n"
          ]
        },
        {
          "output_type": "stream",
          "name": "stdout",
          "text": [
            "Files loaded: /root/mne_data/physionet-sleep-data/SC4081E0-PSG.edf and /root/mne_data/physionet-sleep-data/SC4081EC-Hypnogram.edf\n",
            "Extracting EDF parameters from /root/mne_data/physionet-sleep-data/SC4081E0-PSG.edf...\n",
            "EDF file detected\n",
            "Setting channel info structure...\n",
            "Creating raw.info structure...\n",
            "Reading 0 ... 8387999  =      0.000 ... 83879.990 secs...\n",
            "File /root/mne_data/physionet-sleep-data/SC4081E0-PSG.edf was processed and saved\n",
            "\n",
            "=======================================\n",
            "\n",
            "Using default location ~/mne_data for PHYSIONET_SLEEP...\n"
          ]
        },
        {
          "output_type": "stream",
          "name": "stderr",
          "text": [
            "Downloading data from 'https://physionet.org/physiobank/database/sleep-edfx/sleep-cassette//SC4091E0-PSG.edf' to file '/root/mne_data/physionet-sleep-data/SC4091E0-PSG.edf'.\n",
            "Downloading data from 'https://physionet.org/physiobank/database/sleep-edfx/sleep-cassette//SC4091EC-Hypnogram.edf' to file '/root/mne_data/physionet-sleep-data/SC4091EC-Hypnogram.edf'.\n"
          ]
        },
        {
          "output_type": "stream",
          "name": "stdout",
          "text": [
            "Files loaded: /root/mne_data/physionet-sleep-data/SC4091E0-PSG.edf and /root/mne_data/physionet-sleep-data/SC4091EC-Hypnogram.edf\n",
            "Extracting EDF parameters from /root/mne_data/physionet-sleep-data/SC4091E0-PSG.edf...\n",
            "EDF file detected\n",
            "Setting channel info structure...\n",
            "Creating raw.info structure...\n",
            "Reading 0 ... 8195999  =      0.000 ... 81959.990 secs...\n",
            "File /root/mne_data/physionet-sleep-data/SC4091E0-PSG.edf was processed and saved\n",
            "\n",
            "=======================================\n",
            "\n",
            "Using default location ~/mne_data for PHYSIONET_SLEEP...\n"
          ]
        },
        {
          "output_type": "stream",
          "name": "stderr",
          "text": [
            "Downloading data from 'https://physionet.org/physiobank/database/sleep-edfx/sleep-cassette//SC4101E0-PSG.edf' to file '/root/mne_data/physionet-sleep-data/SC4101E0-PSG.edf'.\n",
            "Downloading data from 'https://physionet.org/physiobank/database/sleep-edfx/sleep-cassette//SC4101EC-Hypnogram.edf' to file '/root/mne_data/physionet-sleep-data/SC4101EC-Hypnogram.edf'.\n"
          ]
        },
        {
          "output_type": "stream",
          "name": "stdout",
          "text": [
            "Files loaded: /root/mne_data/physionet-sleep-data/SC4101E0-PSG.edf and /root/mne_data/physionet-sleep-data/SC4101EC-Hypnogram.edf\n",
            "Extracting EDF parameters from /root/mne_data/physionet-sleep-data/SC4101E0-PSG.edf...\n",
            "EDF file detected\n",
            "Setting channel info structure...\n",
            "Creating raw.info structure...\n",
            "Reading 0 ... 8159999  =      0.000 ... 81599.990 secs...\n",
            "File /root/mne_data/physionet-sleep-data/SC4101E0-PSG.edf was processed and saved\n",
            "\n",
            "=======================================\n",
            "\n",
            "Using default location ~/mne_data for PHYSIONET_SLEEP...\n"
          ]
        },
        {
          "output_type": "stream",
          "name": "stderr",
          "text": [
            "Downloading data from 'https://physionet.org/physiobank/database/sleep-edfx/sleep-cassette//SC4111E0-PSG.edf' to file '/root/mne_data/physionet-sleep-data/SC4111E0-PSG.edf'.\n",
            "Downloading data from 'https://physionet.org/physiobank/database/sleep-edfx/sleep-cassette//SC4111EC-Hypnogram.edf' to file '/root/mne_data/physionet-sleep-data/SC4111EC-Hypnogram.edf'.\n"
          ]
        },
        {
          "output_type": "stream",
          "name": "stdout",
          "text": [
            "Files loaded: /root/mne_data/physionet-sleep-data/SC4111E0-PSG.edf and /root/mne_data/physionet-sleep-data/SC4111EC-Hypnogram.edf\n",
            "Extracting EDF parameters from /root/mne_data/physionet-sleep-data/SC4111E0-PSG.edf...\n",
            "EDF file detected\n",
            "Setting channel info structure...\n",
            "Creating raw.info structure...\n",
            "Reading 0 ... 7925999  =      0.000 ... 79259.990 secs...\n",
            "File /root/mne_data/physionet-sleep-data/SC4111E0-PSG.edf was processed and saved\n",
            "\n",
            "=======================================\n",
            "\n",
            "Using default location ~/mne_data for PHYSIONET_SLEEP...\n"
          ]
        },
        {
          "output_type": "stream",
          "name": "stderr",
          "text": [
            "Downloading data from 'https://physionet.org/physiobank/database/sleep-edfx/sleep-cassette//SC4121E0-PSG.edf' to file '/root/mne_data/physionet-sleep-data/SC4121E0-PSG.edf'.\n",
            "Downloading data from 'https://physionet.org/physiobank/database/sleep-edfx/sleep-cassette//SC4121EC-Hypnogram.edf' to file '/root/mne_data/physionet-sleep-data/SC4121EC-Hypnogram.edf'.\n"
          ]
        },
        {
          "output_type": "stream",
          "name": "stdout",
          "text": [
            "Files loaded: /root/mne_data/physionet-sleep-data/SC4121E0-PSG.edf and /root/mne_data/physionet-sleep-data/SC4121EC-Hypnogram.edf\n",
            "Extracting EDF parameters from /root/mne_data/physionet-sleep-data/SC4121E0-PSG.edf...\n",
            "EDF file detected\n",
            "Setting channel info structure...\n",
            "Creating raw.info structure...\n",
            "Reading 0 ... 8357999  =      0.000 ... 83579.990 secs...\n",
            "File /root/mne_data/physionet-sleep-data/SC4121E0-PSG.edf was processed and saved\n",
            "\n",
            "=======================================\n",
            "\n",
            "Using default location ~/mne_data for PHYSIONET_SLEEP...\n"
          ]
        },
        {
          "output_type": "stream",
          "name": "stderr",
          "text": [
            "Downloading data from 'https://physionet.org/physiobank/database/sleep-edfx/sleep-cassette//SC4131E0-PSG.edf' to file '/root/mne_data/physionet-sleep-data/SC4131E0-PSG.edf'.\n",
            "Downloading data from 'https://physionet.org/physiobank/database/sleep-edfx/sleep-cassette//SC4131EC-Hypnogram.edf' to file '/root/mne_data/physionet-sleep-data/SC4131EC-Hypnogram.edf'.\n"
          ]
        },
        {
          "output_type": "stream",
          "name": "stdout",
          "text": [
            "Files loaded: /root/mne_data/physionet-sleep-data/SC4131E0-PSG.edf and /root/mne_data/physionet-sleep-data/SC4131EC-Hypnogram.edf\n",
            "Extracting EDF parameters from /root/mne_data/physionet-sleep-data/SC4131E0-PSG.edf...\n",
            "EDF file detected\n",
            "Setting channel info structure...\n",
            "Creating raw.info structure...\n",
            "Reading 0 ... 8441999  =      0.000 ... 84419.990 secs...\n",
            "File /root/mne_data/physionet-sleep-data/SC4131E0-PSG.edf was processed and saved\n",
            "\n",
            "=======================================\n",
            "\n",
            "Using default location ~/mne_data for PHYSIONET_SLEEP...\n"
          ]
        },
        {
          "output_type": "stream",
          "name": "stderr",
          "text": [
            "Downloading data from 'https://physionet.org/physiobank/database/sleep-edfx/sleep-cassette//SC4141E0-PSG.edf' to file '/root/mne_data/physionet-sleep-data/SC4141E0-PSG.edf'.\n",
            "Downloading data from 'https://physionet.org/physiobank/database/sleep-edfx/sleep-cassette//SC4141EU-Hypnogram.edf' to file '/root/mne_data/physionet-sleep-data/SC4141EU-Hypnogram.edf'.\n"
          ]
        },
        {
          "output_type": "stream",
          "name": "stdout",
          "text": [
            "Files loaded: /root/mne_data/physionet-sleep-data/SC4141E0-PSG.edf and /root/mne_data/physionet-sleep-data/SC4141EU-Hypnogram.edf\n",
            "Extracting EDF parameters from /root/mne_data/physionet-sleep-data/SC4141E0-PSG.edf...\n",
            "EDF file detected\n",
            "Setting channel info structure...\n",
            "Creating raw.info structure...\n",
            "Reading 0 ... 8267999  =      0.000 ... 82679.990 secs...\n",
            "File /root/mne_data/physionet-sleep-data/SC4141E0-PSG.edf was processed and saved\n",
            "\n",
            "=======================================\n",
            "\n",
            "Using default location ~/mne_data for PHYSIONET_SLEEP...\n"
          ]
        },
        {
          "output_type": "stream",
          "name": "stderr",
          "text": [
            "Downloading data from 'https://physionet.org/physiobank/database/sleep-edfx/sleep-cassette//SC4151E0-PSG.edf' to file '/root/mne_data/physionet-sleep-data/SC4151E0-PSG.edf'.\n",
            "Downloading data from 'https://physionet.org/physiobank/database/sleep-edfx/sleep-cassette//SC4151EC-Hypnogram.edf' to file '/root/mne_data/physionet-sleep-data/SC4151EC-Hypnogram.edf'.\n"
          ]
        },
        {
          "output_type": "stream",
          "name": "stdout",
          "text": [
            "Files loaded: /root/mne_data/physionet-sleep-data/SC4151E0-PSG.edf and /root/mne_data/physionet-sleep-data/SC4151EC-Hypnogram.edf\n",
            "Extracting EDF parameters from /root/mne_data/physionet-sleep-data/SC4151E0-PSG.edf...\n",
            "EDF file detected\n",
            "Setting channel info structure...\n",
            "Creating raw.info structure...\n",
            "Reading 0 ... 7859999  =      0.000 ... 78599.990 secs...\n",
            "File /root/mne_data/physionet-sleep-data/SC4151E0-PSG.edf was processed and saved\n",
            "\n",
            "=======================================\n",
            "\n",
            "Using default location ~/mne_data for PHYSIONET_SLEEP...\n"
          ]
        },
        {
          "output_type": "stream",
          "name": "stderr",
          "text": [
            "Downloading data from 'https://physionet.org/physiobank/database/sleep-edfx/sleep-cassette//SC4161E0-PSG.edf' to file '/root/mne_data/physionet-sleep-data/SC4161E0-PSG.edf'.\n",
            "Downloading data from 'https://physionet.org/physiobank/database/sleep-edfx/sleep-cassette//SC4161EC-Hypnogram.edf' to file '/root/mne_data/physionet-sleep-data/SC4161EC-Hypnogram.edf'.\n"
          ]
        },
        {
          "output_type": "stream",
          "name": "stdout",
          "text": [
            "Files loaded: /root/mne_data/physionet-sleep-data/SC4161E0-PSG.edf and /root/mne_data/physionet-sleep-data/SC4161EC-Hypnogram.edf\n",
            "Extracting EDF parameters from /root/mne_data/physionet-sleep-data/SC4161E0-PSG.edf...\n",
            "EDF file detected\n",
            "Setting channel info structure...\n",
            "Creating raw.info structure...\n",
            "Reading 0 ... 7877999  =      0.000 ... 78779.990 secs...\n",
            "File /root/mne_data/physionet-sleep-data/SC4161E0-PSG.edf was processed and saved\n",
            "\n",
            "=======================================\n",
            "\n",
            "Using default location ~/mne_data for PHYSIONET_SLEEP...\n"
          ]
        },
        {
          "output_type": "stream",
          "name": "stderr",
          "text": [
            "Downloading data from 'https://physionet.org/physiobank/database/sleep-edfx/sleep-cassette//SC4171E0-PSG.edf' to file '/root/mne_data/physionet-sleep-data/SC4171E0-PSG.edf'.\n",
            "Downloading data from 'https://physionet.org/physiobank/database/sleep-edfx/sleep-cassette//SC4171EU-Hypnogram.edf' to file '/root/mne_data/physionet-sleep-data/SC4171EU-Hypnogram.edf'.\n"
          ]
        },
        {
          "output_type": "stream",
          "name": "stdout",
          "text": [
            "Files loaded: /root/mne_data/physionet-sleep-data/SC4171E0-PSG.edf and /root/mne_data/physionet-sleep-data/SC4171EU-Hypnogram.edf\n",
            "Extracting EDF parameters from /root/mne_data/physionet-sleep-data/SC4171E0-PSG.edf...\n",
            "EDF file detected\n",
            "Setting channel info structure...\n",
            "Creating raw.info structure...\n",
            "Reading 0 ... 8225999  =      0.000 ... 82259.990 secs...\n",
            "File /root/mne_data/physionet-sleep-data/SC4171E0-PSG.edf was processed and saved\n",
            "\n",
            "=======================================\n",
            "\n",
            "Using default location ~/mne_data for PHYSIONET_SLEEP...\n"
          ]
        },
        {
          "output_type": "stream",
          "name": "stderr",
          "text": [
            "Downloading data from 'https://physionet.org/physiobank/database/sleep-edfx/sleep-cassette//SC4181E0-PSG.edf' to file '/root/mne_data/physionet-sleep-data/SC4181E0-PSG.edf'.\n",
            "Downloading data from 'https://physionet.org/physiobank/database/sleep-edfx/sleep-cassette//SC4181EC-Hypnogram.edf' to file '/root/mne_data/physionet-sleep-data/SC4181EC-Hypnogram.edf'.\n"
          ]
        },
        {
          "output_type": "stream",
          "name": "stdout",
          "text": [
            "Files loaded: /root/mne_data/physionet-sleep-data/SC4181E0-PSG.edf and /root/mne_data/physionet-sleep-data/SC4181EC-Hypnogram.edf\n",
            "Extracting EDF parameters from /root/mne_data/physionet-sleep-data/SC4181E0-PSG.edf...\n",
            "EDF file detected\n",
            "Setting channel info structure...\n",
            "Creating raw.info structure...\n",
            "Reading 0 ... 8267999  =      0.000 ... 82679.990 secs...\n",
            "File /root/mne_data/physionet-sleep-data/SC4181E0-PSG.edf was processed and saved\n",
            "\n",
            "=======================================\n",
            "\n",
            "Using default location ~/mne_data for PHYSIONET_SLEEP...\n"
          ]
        },
        {
          "output_type": "stream",
          "name": "stderr",
          "text": [
            "Downloading data from 'https://physionet.org/physiobank/database/sleep-edfx/sleep-cassette//SC4191E0-PSG.edf' to file '/root/mne_data/physionet-sleep-data/SC4191E0-PSG.edf'.\n",
            "Downloading data from 'https://physionet.org/physiobank/database/sleep-edfx/sleep-cassette//SC4191EP-Hypnogram.edf' to file '/root/mne_data/physionet-sleep-data/SC4191EP-Hypnogram.edf'.\n"
          ]
        },
        {
          "output_type": "stream",
          "name": "stdout",
          "text": [
            "Files loaded: /root/mne_data/physionet-sleep-data/SC4191E0-PSG.edf and /root/mne_data/physionet-sleep-data/SC4191EP-Hypnogram.edf\n",
            "Extracting EDF parameters from /root/mne_data/physionet-sleep-data/SC4191E0-PSG.edf...\n",
            "EDF file detected\n",
            "Setting channel info structure...\n",
            "Creating raw.info structure...\n",
            "Reading 0 ... 8321999  =      0.000 ... 83219.990 secs...\n",
            "File /root/mne_data/physionet-sleep-data/SC4191E0-PSG.edf was processed and saved\n",
            "\n",
            "=======================================\n",
            "\n",
            "Using default location ~/mne_data for PHYSIONET_SLEEP...\n"
          ]
        },
        {
          "output_type": "stream",
          "name": "stderr",
          "text": [
            "Downloading data from 'https://physionet.org/physiobank/database/sleep-edfx/sleep-cassette//SC4002E0-PSG.edf' to file '/root/mne_data/physionet-sleep-data/SC4002E0-PSG.edf'.\n",
            "Downloading data from 'https://physionet.org/physiobank/database/sleep-edfx/sleep-cassette//SC4002EC-Hypnogram.edf' to file '/root/mne_data/physionet-sleep-data/SC4002EC-Hypnogram.edf'.\n"
          ]
        },
        {
          "output_type": "stream",
          "name": "stdout",
          "text": [
            "Files loaded: /root/mne_data/physionet-sleep-data/SC4002E0-PSG.edf and /root/mne_data/physionet-sleep-data/SC4002EC-Hypnogram.edf\n",
            "Extracting EDF parameters from /root/mne_data/physionet-sleep-data/SC4002E0-PSG.edf...\n",
            "EDF file detected\n",
            "Setting channel info structure...\n",
            "Creating raw.info structure...\n",
            "Reading 0 ... 8489999  =      0.000 ... 84899.990 secs...\n",
            "File /root/mne_data/physionet-sleep-data/SC4002E0-PSG.edf was processed and saved\n",
            "\n",
            "=======================================\n",
            "\n",
            "Using default location ~/mne_data for PHYSIONET_SLEEP...\n"
          ]
        },
        {
          "output_type": "stream",
          "name": "stderr",
          "text": [
            "Downloading data from 'https://physionet.org/physiobank/database/sleep-edfx/sleep-cassette//SC4012E0-PSG.edf' to file '/root/mne_data/physionet-sleep-data/SC4012E0-PSG.edf'.\n",
            "Downloading data from 'https://physionet.org/physiobank/database/sleep-edfx/sleep-cassette//SC4012EC-Hypnogram.edf' to file '/root/mne_data/physionet-sleep-data/SC4012EC-Hypnogram.edf'.\n"
          ]
        },
        {
          "output_type": "stream",
          "name": "stdout",
          "text": [
            "Files loaded: /root/mne_data/physionet-sleep-data/SC4012E0-PSG.edf and /root/mne_data/physionet-sleep-data/SC4012EC-Hypnogram.edf\n",
            "Extracting EDF parameters from /root/mne_data/physionet-sleep-data/SC4012E0-PSG.edf...\n",
            "EDF file detected\n",
            "Setting channel info structure...\n",
            "Creating raw.info structure...\n",
            "Reading 0 ... 8549999  =      0.000 ... 85499.990 secs...\n",
            "File /root/mne_data/physionet-sleep-data/SC4012E0-PSG.edf was processed and saved\n",
            "\n",
            "=======================================\n",
            "\n",
            "Using default location ~/mne_data for PHYSIONET_SLEEP...\n"
          ]
        },
        {
          "output_type": "stream",
          "name": "stderr",
          "text": [
            "Downloading data from 'https://physionet.org/physiobank/database/sleep-edfx/sleep-cassette//SC4022E0-PSG.edf' to file '/root/mne_data/physionet-sleep-data/SC4022E0-PSG.edf'.\n",
            "Downloading data from 'https://physionet.org/physiobank/database/sleep-edfx/sleep-cassette//SC4022EJ-Hypnogram.edf' to file '/root/mne_data/physionet-sleep-data/SC4022EJ-Hypnogram.edf'.\n"
          ]
        },
        {
          "output_type": "stream",
          "name": "stdout",
          "text": [
            "Files loaded: /root/mne_data/physionet-sleep-data/SC4022E0-PSG.edf and /root/mne_data/physionet-sleep-data/SC4022EJ-Hypnogram.edf\n",
            "Extracting EDF parameters from /root/mne_data/physionet-sleep-data/SC4022E0-PSG.edf...\n",
            "EDF file detected\n",
            "Setting channel info structure...\n",
            "Creating raw.info structure...\n",
            "Reading 0 ... 8267999  =      0.000 ... 82679.990 secs...\n",
            "File /root/mne_data/physionet-sleep-data/SC4022E0-PSG.edf was processed and saved\n",
            "\n",
            "=======================================\n",
            "\n",
            "Using default location ~/mne_data for PHYSIONET_SLEEP...\n"
          ]
        },
        {
          "output_type": "stream",
          "name": "stderr",
          "text": [
            "Downloading data from 'https://physionet.org/physiobank/database/sleep-edfx/sleep-cassette//SC4032E0-PSG.edf' to file '/root/mne_data/physionet-sleep-data/SC4032E0-PSG.edf'.\n",
            "Downloading data from 'https://physionet.org/physiobank/database/sleep-edfx/sleep-cassette//SC4032EP-Hypnogram.edf' to file '/root/mne_data/physionet-sleep-data/SC4032EP-Hypnogram.edf'.\n"
          ]
        },
        {
          "output_type": "stream",
          "name": "stdout",
          "text": [
            "Files loaded: /root/mne_data/physionet-sleep-data/SC4032E0-PSG.edf and /root/mne_data/physionet-sleep-data/SC4032EP-Hypnogram.edf\n",
            "Extracting EDF parameters from /root/mne_data/physionet-sleep-data/SC4032E0-PSG.edf...\n",
            "EDF file detected\n",
            "Setting channel info structure...\n",
            "Creating raw.info structure...\n",
            "Reading 0 ... 8195999  =      0.000 ... 81959.990 secs...\n",
            "File /root/mne_data/physionet-sleep-data/SC4032E0-PSG.edf was processed and saved\n",
            "\n",
            "=======================================\n",
            "\n",
            "Using default location ~/mne_data for PHYSIONET_SLEEP...\n"
          ]
        },
        {
          "output_type": "stream",
          "name": "stderr",
          "text": [
            "Downloading data from 'https://physionet.org/physiobank/database/sleep-edfx/sleep-cassette//SC4042E0-PSG.edf' to file '/root/mne_data/physionet-sleep-data/SC4042E0-PSG.edf'.\n",
            "Downloading data from 'https://physionet.org/physiobank/database/sleep-edfx/sleep-cassette//SC4042EC-Hypnogram.edf' to file '/root/mne_data/physionet-sleep-data/SC4042EC-Hypnogram.edf'.\n"
          ]
        },
        {
          "output_type": "stream",
          "name": "stdout",
          "text": [
            "Files loaded: /root/mne_data/physionet-sleep-data/SC4042E0-PSG.edf and /root/mne_data/physionet-sleep-data/SC4042EC-Hypnogram.edf\n",
            "Extracting EDF parameters from /root/mne_data/physionet-sleep-data/SC4042E0-PSG.edf...\n",
            "EDF file detected\n",
            "Setting channel info structure...\n",
            "Creating raw.info structure...\n",
            "Reading 0 ... 8375999  =      0.000 ... 83759.990 secs...\n",
            "File /root/mne_data/physionet-sleep-data/SC4042E0-PSG.edf was processed and saved\n",
            "\n",
            "=======================================\n",
            "\n",
            "Using default location ~/mne_data for PHYSIONET_SLEEP...\n"
          ]
        },
        {
          "output_type": "stream",
          "name": "stderr",
          "text": [
            "Downloading data from 'https://physionet.org/physiobank/database/sleep-edfx/sleep-cassette//SC4052E0-PSG.edf' to file '/root/mne_data/physionet-sleep-data/SC4052E0-PSG.edf'.\n",
            "Downloading data from 'https://physionet.org/physiobank/database/sleep-edfx/sleep-cassette//SC4052EC-Hypnogram.edf' to file '/root/mne_data/physionet-sleep-data/SC4052EC-Hypnogram.edf'.\n"
          ]
        },
        {
          "output_type": "stream",
          "name": "stdout",
          "text": [
            "Files loaded: /root/mne_data/physionet-sleep-data/SC4052E0-PSG.edf and /root/mne_data/physionet-sleep-data/SC4052EC-Hypnogram.edf\n",
            "Extracting EDF parameters from /root/mne_data/physionet-sleep-data/SC4052E0-PSG.edf...\n",
            "EDF file detected\n",
            "Setting channel info structure...\n",
            "Creating raw.info structure...\n",
            "Reading 0 ... 8417999  =      0.000 ... 84179.990 secs...\n",
            "File /root/mne_data/physionet-sleep-data/SC4052E0-PSG.edf was processed and saved\n",
            "\n",
            "=======================================\n",
            "\n",
            "Using default location ~/mne_data for PHYSIONET_SLEEP...\n"
          ]
        },
        {
          "output_type": "stream",
          "name": "stderr",
          "text": [
            "Downloading data from 'https://physionet.org/physiobank/database/sleep-edfx/sleep-cassette//SC4062E0-PSG.edf' to file '/root/mne_data/physionet-sleep-data/SC4062E0-PSG.edf'.\n",
            "Downloading data from 'https://physionet.org/physiobank/database/sleep-edfx/sleep-cassette//SC4062EC-Hypnogram.edf' to file '/root/mne_data/physionet-sleep-data/SC4062EC-Hypnogram.edf'.\n"
          ]
        },
        {
          "output_type": "stream",
          "name": "stdout",
          "text": [
            "Files loaded: /root/mne_data/physionet-sleep-data/SC4062E0-PSG.edf and /root/mne_data/physionet-sleep-data/SC4062EC-Hypnogram.edf\n",
            "Extracting EDF parameters from /root/mne_data/physionet-sleep-data/SC4062E0-PSG.edf...\n",
            "EDF file detected\n",
            "Setting channel info structure...\n",
            "Creating raw.info structure...\n",
            "Reading 0 ... 8489999  =      0.000 ... 84899.990 secs...\n",
            "File /root/mne_data/physionet-sleep-data/SC4062E0-PSG.edf was processed and saved\n",
            "\n",
            "=======================================\n",
            "\n",
            "Using default location ~/mne_data for PHYSIONET_SLEEP...\n"
          ]
        },
        {
          "output_type": "stream",
          "name": "stderr",
          "text": [
            "Downloading data from 'https://physionet.org/physiobank/database/sleep-edfx/sleep-cassette//SC4072E0-PSG.edf' to file '/root/mne_data/physionet-sleep-data/SC4072E0-PSG.edf'.\n",
            "Downloading data from 'https://physionet.org/physiobank/database/sleep-edfx/sleep-cassette//SC4072EH-Hypnogram.edf' to file '/root/mne_data/physionet-sleep-data/SC4072EH-Hypnogram.edf'.\n"
          ]
        },
        {
          "output_type": "stream",
          "name": "stdout",
          "text": [
            "Files loaded: /root/mne_data/physionet-sleep-data/SC4072E0-PSG.edf and /root/mne_data/physionet-sleep-data/SC4072EH-Hypnogram.edf\n",
            "Extracting EDF parameters from /root/mne_data/physionet-sleep-data/SC4072E0-PSG.edf...\n",
            "EDF file detected\n",
            "Setting channel info structure...\n",
            "Creating raw.info structure...\n",
            "Reading 0 ... 8309999  =      0.000 ... 83099.990 secs...\n",
            "File /root/mne_data/physionet-sleep-data/SC4072E0-PSG.edf was processed and saved\n",
            "\n",
            "=======================================\n",
            "\n",
            "Using default location ~/mne_data for PHYSIONET_SLEEP...\n"
          ]
        },
        {
          "output_type": "stream",
          "name": "stderr",
          "text": [
            "Downloading data from 'https://physionet.org/physiobank/database/sleep-edfx/sleep-cassette//SC4082E0-PSG.edf' to file '/root/mne_data/physionet-sleep-data/SC4082E0-PSG.edf'.\n",
            "Downloading data from 'https://physionet.org/physiobank/database/sleep-edfx/sleep-cassette//SC4082EP-Hypnogram.edf' to file '/root/mne_data/physionet-sleep-data/SC4082EP-Hypnogram.edf'.\n"
          ]
        },
        {
          "output_type": "stream",
          "name": "stdout",
          "text": [
            "Files loaded: /root/mne_data/physionet-sleep-data/SC4082E0-PSG.edf and /root/mne_data/physionet-sleep-data/SC4082EP-Hypnogram.edf\n",
            "Extracting EDF parameters from /root/mne_data/physionet-sleep-data/SC4082E0-PSG.edf...\n",
            "EDF file detected\n",
            "Setting channel info structure...\n",
            "Creating raw.info structure...\n",
            "Reading 0 ... 7901999  =      0.000 ... 79019.990 secs...\n",
            "File /root/mne_data/physionet-sleep-data/SC4082E0-PSG.edf was processed and saved\n",
            "\n",
            "=======================================\n",
            "\n",
            "Using default location ~/mne_data for PHYSIONET_SLEEP...\n"
          ]
        },
        {
          "output_type": "stream",
          "name": "stderr",
          "text": [
            "Downloading data from 'https://physionet.org/physiobank/database/sleep-edfx/sleep-cassette//SC4092E0-PSG.edf' to file '/root/mne_data/physionet-sleep-data/SC4092E0-PSG.edf'.\n",
            "Downloading data from 'https://physionet.org/physiobank/database/sleep-edfx/sleep-cassette//SC4092EC-Hypnogram.edf' to file '/root/mne_data/physionet-sleep-data/SC4092EC-Hypnogram.edf'.\n"
          ]
        },
        {
          "output_type": "stream",
          "name": "stdout",
          "text": [
            "Files loaded: /root/mne_data/physionet-sleep-data/SC4092E0-PSG.edf and /root/mne_data/physionet-sleep-data/SC4092EC-Hypnogram.edf\n",
            "Extracting EDF parameters from /root/mne_data/physionet-sleep-data/SC4092E0-PSG.edf...\n",
            "EDF file detected\n",
            "Setting channel info structure...\n",
            "Creating raw.info structure...\n",
            "Reading 0 ... 8573999  =      0.000 ... 85739.990 secs...\n",
            "File /root/mne_data/physionet-sleep-data/SC4092E0-PSG.edf was processed and saved\n",
            "\n",
            "=======================================\n",
            "\n",
            "Using default location ~/mne_data for PHYSIONET_SLEEP...\n"
          ]
        },
        {
          "output_type": "stream",
          "name": "stderr",
          "text": [
            "Downloading data from 'https://physionet.org/physiobank/database/sleep-edfx/sleep-cassette//SC4102E0-PSG.edf' to file '/root/mne_data/physionet-sleep-data/SC4102E0-PSG.edf'.\n",
            "Downloading data from 'https://physionet.org/physiobank/database/sleep-edfx/sleep-cassette//SC4102EC-Hypnogram.edf' to file '/root/mne_data/physionet-sleep-data/SC4102EC-Hypnogram.edf'.\n"
          ]
        },
        {
          "output_type": "stream",
          "name": "stdout",
          "text": [
            "Files loaded: /root/mne_data/physionet-sleep-data/SC4102E0-PSG.edf and /root/mne_data/physionet-sleep-data/SC4102EC-Hypnogram.edf\n",
            "Extracting EDF parameters from /root/mne_data/physionet-sleep-data/SC4102E0-PSG.edf...\n",
            "EDF file detected\n",
            "Setting channel info structure...\n",
            "Creating raw.info structure...\n",
            "Reading 0 ... 8573999  =      0.000 ... 85739.990 secs...\n",
            "File /root/mne_data/physionet-sleep-data/SC4102E0-PSG.edf was processed and saved\n",
            "\n",
            "=======================================\n",
            "\n",
            "Using default location ~/mne_data for PHYSIONET_SLEEP...\n"
          ]
        },
        {
          "output_type": "stream",
          "name": "stderr",
          "text": [
            "Downloading data from 'https://physionet.org/physiobank/database/sleep-edfx/sleep-cassette//SC4112E0-PSG.edf' to file '/root/mne_data/physionet-sleep-data/SC4112E0-PSG.edf'.\n",
            "Downloading data from 'https://physionet.org/physiobank/database/sleep-edfx/sleep-cassette//SC4112EC-Hypnogram.edf' to file '/root/mne_data/physionet-sleep-data/SC4112EC-Hypnogram.edf'.\n"
          ]
        },
        {
          "output_type": "stream",
          "name": "stdout",
          "text": [
            "Files loaded: /root/mne_data/physionet-sleep-data/SC4112E0-PSG.edf and /root/mne_data/physionet-sleep-data/SC4112EC-Hypnogram.edf\n",
            "Extracting EDF parameters from /root/mne_data/physionet-sleep-data/SC4112E0-PSG.edf...\n",
            "EDF file detected\n",
            "Setting channel info structure...\n",
            "Creating raw.info structure...\n",
            "Reading 0 ... 8339999  =      0.000 ... 83399.990 secs...\n",
            "File /root/mne_data/physionet-sleep-data/SC4112E0-PSG.edf was processed and saved\n",
            "\n",
            "=======================================\n",
            "\n",
            "Using default location ~/mne_data for PHYSIONET_SLEEP...\n"
          ]
        },
        {
          "output_type": "stream",
          "name": "stderr",
          "text": [
            "Downloading data from 'https://physionet.org/physiobank/database/sleep-edfx/sleep-cassette//SC4122E0-PSG.edf' to file '/root/mne_data/physionet-sleep-data/SC4122E0-PSG.edf'.\n",
            "Downloading data from 'https://physionet.org/physiobank/database/sleep-edfx/sleep-cassette//SC4122EV-Hypnogram.edf' to file '/root/mne_data/physionet-sleep-data/SC4122EV-Hypnogram.edf'.\n"
          ]
        },
        {
          "output_type": "stream",
          "name": "stdout",
          "text": [
            "Files loaded: /root/mne_data/physionet-sleep-data/SC4122E0-PSG.edf and /root/mne_data/physionet-sleep-data/SC4122EV-Hypnogram.edf\n",
            "Extracting EDF parameters from /root/mne_data/physionet-sleep-data/SC4122E0-PSG.edf...\n",
            "EDF file detected\n",
            "Setting channel info structure...\n",
            "Creating raw.info structure...\n",
            "Reading 0 ... 7817999  =      0.000 ... 78179.990 secs...\n",
            "File /root/mne_data/physionet-sleep-data/SC4122E0-PSG.edf was processed and saved\n",
            "\n",
            "=======================================\n",
            "\n",
            "Using default location ~/mne_data for PHYSIONET_SLEEP...\n"
          ]
        },
        {
          "output_type": "stream",
          "name": "stderr",
          "text": [
            "Downloading data from 'https://physionet.org/physiobank/database/sleep-edfx/sleep-cassette//SC4142E0-PSG.edf' to file '/root/mne_data/physionet-sleep-data/SC4142E0-PSG.edf'.\n",
            "Downloading data from 'https://physionet.org/physiobank/database/sleep-edfx/sleep-cassette//SC4142EU-Hypnogram.edf' to file '/root/mne_data/physionet-sleep-data/SC4142EU-Hypnogram.edf'.\n"
          ]
        },
        {
          "output_type": "stream",
          "name": "stdout",
          "text": [
            "Files loaded: /root/mne_data/physionet-sleep-data/SC4142E0-PSG.edf and /root/mne_data/physionet-sleep-data/SC4142EU-Hypnogram.edf\n",
            "Extracting EDF parameters from /root/mne_data/physionet-sleep-data/SC4142E0-PSG.edf...\n",
            "EDF file detected\n",
            "Setting channel info structure...\n",
            "Creating raw.info structure...\n",
            "Reading 0 ... 8321999  =      0.000 ... 83219.990 secs...\n",
            "File /root/mne_data/physionet-sleep-data/SC4142E0-PSG.edf was processed and saved\n",
            "\n",
            "=======================================\n",
            "\n",
            "Using default location ~/mne_data for PHYSIONET_SLEEP...\n"
          ]
        },
        {
          "output_type": "stream",
          "name": "stderr",
          "text": [
            "Downloading data from 'https://physionet.org/physiobank/database/sleep-edfx/sleep-cassette//SC4152E0-PSG.edf' to file '/root/mne_data/physionet-sleep-data/SC4152E0-PSG.edf'.\n",
            "Downloading data from 'https://physionet.org/physiobank/database/sleep-edfx/sleep-cassette//SC4152EC-Hypnogram.edf' to file '/root/mne_data/physionet-sleep-data/SC4152EC-Hypnogram.edf'.\n"
          ]
        },
        {
          "output_type": "stream",
          "name": "stdout",
          "text": [
            "Files loaded: /root/mne_data/physionet-sleep-data/SC4152E0-PSG.edf and /root/mne_data/physionet-sleep-data/SC4152EC-Hypnogram.edf\n",
            "Extracting EDF parameters from /root/mne_data/physionet-sleep-data/SC4152E0-PSG.edf...\n",
            "EDF file detected\n",
            "Setting channel info structure...\n",
            "Creating raw.info structure...\n",
            "Reading 0 ... 8591999  =      0.000 ... 85919.990 secs...\n",
            "File /root/mne_data/physionet-sleep-data/SC4152E0-PSG.edf was processed and saved\n",
            "\n",
            "=======================================\n",
            "\n",
            "Using default location ~/mne_data for PHYSIONET_SLEEP...\n"
          ]
        },
        {
          "output_type": "stream",
          "name": "stderr",
          "text": [
            "Downloading data from 'https://physionet.org/physiobank/database/sleep-edfx/sleep-cassette//SC4162E0-PSG.edf' to file '/root/mne_data/physionet-sleep-data/SC4162E0-PSG.edf'.\n",
            "Downloading data from 'https://physionet.org/physiobank/database/sleep-edfx/sleep-cassette//SC4162EC-Hypnogram.edf' to file '/root/mne_data/physionet-sleep-data/SC4162EC-Hypnogram.edf'.\n"
          ]
        },
        {
          "output_type": "stream",
          "name": "stdout",
          "text": [
            "Files loaded: /root/mne_data/physionet-sleep-data/SC4162E0-PSG.edf and /root/mne_data/physionet-sleep-data/SC4162EC-Hypnogram.edf\n",
            "Extracting EDF parameters from /root/mne_data/physionet-sleep-data/SC4162E0-PSG.edf...\n",
            "EDF file detected\n",
            "Setting channel info structure...\n",
            "Creating raw.info structure...\n",
            "Reading 0 ... 8255999  =      0.000 ... 82559.990 secs...\n",
            "File /root/mne_data/physionet-sleep-data/SC4162E0-PSG.edf was processed and saved\n",
            "\n",
            "=======================================\n",
            "\n",
            "Using default location ~/mne_data for PHYSIONET_SLEEP...\n"
          ]
        },
        {
          "output_type": "stream",
          "name": "stderr",
          "text": [
            "Downloading data from 'https://physionet.org/physiobank/database/sleep-edfx/sleep-cassette//SC4172E0-PSG.edf' to file '/root/mne_data/physionet-sleep-data/SC4172E0-PSG.edf'.\n",
            "Downloading data from 'https://physionet.org/physiobank/database/sleep-edfx/sleep-cassette//SC4172EC-Hypnogram.edf' to file '/root/mne_data/physionet-sleep-data/SC4172EC-Hypnogram.edf'.\n"
          ]
        },
        {
          "output_type": "stream",
          "name": "stdout",
          "text": [
            "Files loaded: /root/mne_data/physionet-sleep-data/SC4172E0-PSG.edf and /root/mne_data/physionet-sleep-data/SC4172EC-Hypnogram.edf\n",
            "Extracting EDF parameters from /root/mne_data/physionet-sleep-data/SC4172E0-PSG.edf...\n",
            "EDF file detected\n",
            "Setting channel info structure...\n",
            "Creating raw.info structure...\n",
            "Reading 0 ... 8171999  =      0.000 ... 81719.990 secs...\n",
            "File /root/mne_data/physionet-sleep-data/SC4172E0-PSG.edf was processed and saved\n",
            "\n",
            "=======================================\n",
            "\n",
            "Using default location ~/mne_data for PHYSIONET_SLEEP...\n"
          ]
        },
        {
          "output_type": "stream",
          "name": "stderr",
          "text": [
            "Downloading data from 'https://physionet.org/physiobank/database/sleep-edfx/sleep-cassette//SC4182E0-PSG.edf' to file '/root/mne_data/physionet-sleep-data/SC4182E0-PSG.edf'.\n",
            "Downloading data from 'https://physionet.org/physiobank/database/sleep-edfx/sleep-cassette//SC4182EC-Hypnogram.edf' to file '/root/mne_data/physionet-sleep-data/SC4182EC-Hypnogram.edf'.\n"
          ]
        },
        {
          "output_type": "stream",
          "name": "stdout",
          "text": [
            "Files loaded: /root/mne_data/physionet-sleep-data/SC4182E0-PSG.edf and /root/mne_data/physionet-sleep-data/SC4182EC-Hypnogram.edf\n",
            "Extracting EDF parameters from /root/mne_data/physionet-sleep-data/SC4182E0-PSG.edf...\n",
            "EDF file detected\n",
            "Setting channel info structure...\n",
            "Creating raw.info structure...\n",
            "Reading 0 ... 8525999  =      0.000 ... 85259.990 secs...\n",
            "File /root/mne_data/physionet-sleep-data/SC4182E0-PSG.edf was processed and saved\n",
            "\n",
            "=======================================\n",
            "\n",
            "Using default location ~/mne_data for PHYSIONET_SLEEP...\n"
          ]
        },
        {
          "output_type": "stream",
          "name": "stderr",
          "text": [
            "Downloading data from 'https://physionet.org/physiobank/database/sleep-edfx/sleep-cassette//SC4192E0-PSG.edf' to file '/root/mne_data/physionet-sleep-data/SC4192E0-PSG.edf'.\n",
            "Downloading data from 'https://physionet.org/physiobank/database/sleep-edfx/sleep-cassette//SC4192EV-Hypnogram.edf' to file '/root/mne_data/physionet-sleep-data/SC4192EV-Hypnogram.edf'.\n"
          ]
        },
        {
          "output_type": "stream",
          "name": "stdout",
          "text": [
            "Files loaded: /root/mne_data/physionet-sleep-data/SC4192E0-PSG.edf and /root/mne_data/physionet-sleep-data/SC4192EV-Hypnogram.edf\n",
            "Extracting EDF parameters from /root/mne_data/physionet-sleep-data/SC4192E0-PSG.edf...\n",
            "EDF file detected\n",
            "Setting channel info structure...\n",
            "Creating raw.info structure...\n",
            "Reading 0 ... 7829999  =      0.000 ... 78299.990 secs...\n",
            "File /root/mne_data/physionet-sleep-data/SC4192E0-PSG.edf was processed and saved\n",
            "\n",
            "=======================================\n",
            "\n"
          ]
        }
      ]
    },
    {
      "cell_type": "code",
      "source": [
        "import numpy as np\n",
        "import matplotlib.pyplot as plt\n",
        "%matplotlib inline\n",
        "\n",
        "import time\n",
        "from datetime import datetime as dt\n",
        "import pandas as pd\n",
        "import os\n",
        "import seaborn as sns\n",
        "\n",
        "from sklearn.metrics import accuracy_score\n",
        "from sklearn.metrics import confusion_matrix\n",
        "from sklearn.metrics import classification_report\n",
        "from sklearn.model_selection import StratifiedKFold\n",
        "\n",
        "from sklearn.preprocessing import Normalizer\n",
        "\n",
        "\n",
        "\n",
        "\n",
        "#Functions\n",
        "\n",
        "def print_confusion_matrix(confusion_matrix, class_names, figsize = (10,7), fontsize=14):\n",
        "\n",
        "    df_cm = pd.DataFrame(\n",
        "        confusion_matrix, index=class_names, columns=class_names,\n",
        "    )\n",
        "    fig = plt.figure(figsize=figsize)\n",
        "    try:\n",
        "        heatmap = sns.heatmap(df_cm, annot=True, fmt=\"d\")\n",
        "    except ValueError:\n",
        "        raise ValueError(\"Confusion matrix values must be integers.\")\n",
        "    heatmap.yaxis.set_ticklabels(heatmap.yaxis.get_ticklabels(), rotation=0, ha='right', fontsize=fontsize)\n",
        "    heatmap.xaxis.set_ticklabels(heatmap.xaxis.get_ticklabels(), rotation=45, ha='right', fontsize=fontsize)\n",
        "    plt.ylabel('True label')\n",
        "    plt.xlabel('Predicted label')\n",
        "    return fig\n",
        "\n",
        "def _load_npz_file(npz_file):\n",
        "    with np.load(npz_file) as f:\n",
        "        data = f[\"x\"]\n",
        "        labels = f[\"y\"]\n",
        "        sampling_rate = f[\"fs\"]\n",
        "    return data, labels, sampling_rate\n",
        "\n",
        "def _load_npz_list_files(npz_files):\n",
        "    data = []\n",
        "    labels = []\n",
        "    fs = None\n",
        "    for npz_f in npz_files:\n",
        "        tmp_data, tmp_labels, sampling_rate = _load_npz_file(npz_f)\n",
        "        if fs is None:\n",
        "            fs = sampling_rate\n",
        "        elif fs != sampling_rate:\n",
        "            raise Exception(\"Found mismatch in sampling rate.\")\n",
        "        data.append(tmp_data)\n",
        "        labels.append(tmp_labels)\n",
        "    data = np.vstack(data)\n",
        "    labels = np.hstack(labels)\n",
        "    return data, labels"
      ],
      "metadata": {
        "id": "coRxtAyfyaKv"
      },
      "execution_count": null,
      "outputs": []
    },
    {
      "cell_type": "code",
      "source": [
        "from google.colab import drive\n",
        "drive.mount('/content/gdrive')"
      ],
      "metadata": {
        "colab": {
          "base_uri": "https://localhost:8080/"
        },
        "id": "LaRgh0UVycG4",
        "outputId": "5e126609-1456-496a-ba84-97668a6a6975"
      },
      "execution_count": null,
      "outputs": [
        {
          "output_type": "stream",
          "name": "stdout",
          "text": [
            "Drive already mounted at /content/gdrive; to attempt to forcibly remount, call drive.mount(\"/content/gdrive\", force_remount=True).\n"
          ]
        }
      ]
    },
    {
      "cell_type": "code",
      "source": [
        "import tensorflow as tf\n",
        "from tensorflow import keras\n",
        "from tensorflow.keras import layers\n",
        "from keras.regularizers import l2\n",
        "%tensorflow_version 2.x\n",
        "\n",
        "print(tf.__version__)\n",
        "\n",
        "print(\"Num GPUs Available: \", len(tf.config.experimental.list_physical_devices('GPU')))\n",
        "\n",
        "device_name = tf.test.gpu_device_name()\n",
        "if device_name != '/device:GPU:0':\n",
        "  raise SystemError('GPU device not found')\n",
        "print('Found GPU at: {}'.format(device_name))"
      ],
      "metadata": {
        "colab": {
          "base_uri": "https://localhost:8080/",
          "height": 252
        },
        "id": "sPYsUj0iyeua",
        "outputId": "497d4661-ecea-4c74-ece2-38111f23d16b"
      },
      "execution_count": null,
      "outputs": [
        {
          "output_type": "stream",
          "name": "stdout",
          "text": [
            "2.8.2\n",
            "Num GPUs Available:  0\n"
          ]
        },
        {
          "output_type": "error",
          "ename": "SystemError",
          "evalue": "ignored",
          "traceback": [
            "\u001b[0;31m---------------------------------------------------------------------------\u001b[0m",
            "\u001b[0;31mSystemError\u001b[0m                               Traceback (most recent call last)",
            "\u001b[0;32m<ipython-input-10-e58edd645c34>\u001b[0m in \u001b[0;36m<module>\u001b[0;34m()\u001b[0m\n\u001b[1;32m     13\u001b[0m \u001b[0mdevice_name\u001b[0m \u001b[0;34m=\u001b[0m \u001b[0mtf\u001b[0m\u001b[0;34m.\u001b[0m\u001b[0mtest\u001b[0m\u001b[0;34m.\u001b[0m\u001b[0mgpu_device_name\u001b[0m\u001b[0;34m(\u001b[0m\u001b[0;34m)\u001b[0m\u001b[0;34m\u001b[0m\u001b[0;34m\u001b[0m\u001b[0m\n\u001b[1;32m     14\u001b[0m \u001b[0;32mif\u001b[0m \u001b[0mdevice_name\u001b[0m \u001b[0;34m!=\u001b[0m \u001b[0;34m'/device:GPU:0'\u001b[0m\u001b[0;34m:\u001b[0m\u001b[0;34m\u001b[0m\u001b[0;34m\u001b[0m\u001b[0m\n\u001b[0;32m---> 15\u001b[0;31m   \u001b[0;32mraise\u001b[0m \u001b[0mSystemError\u001b[0m\u001b[0;34m(\u001b[0m\u001b[0;34m'GPU device not found'\u001b[0m\u001b[0;34m)\u001b[0m\u001b[0;34m\u001b[0m\u001b[0;34m\u001b[0m\u001b[0m\n\u001b[0m\u001b[1;32m     16\u001b[0m \u001b[0mprint\u001b[0m\u001b[0;34m(\u001b[0m\u001b[0;34m'Found GPU at: {}'\u001b[0m\u001b[0;34m.\u001b[0m\u001b[0mformat\u001b[0m\u001b[0;34m(\u001b[0m\u001b[0mdevice_name\u001b[0m\u001b[0;34m)\u001b[0m\u001b[0;34m)\u001b[0m\u001b[0;34m\u001b[0m\u001b[0;34m\u001b[0m\u001b[0m\n",
            "\u001b[0;31mSystemError\u001b[0m: GPU device not found"
          ]
        }
      ]
    },
    {
      "cell_type": "code",
      "source": [
        "path = '/content/gdrive/MyDrive/dataset/test' #the path where the npz files were saved in the first notebook.\n",
        "\n",
        "files = os.listdir(path)\n",
        "filespath = []\n",
        "for i in files:\n",
        "  filespath.append(os.path.join(path,i))\n",
        "X, Y = _load_npz_list_files(filespath)\n",
        "#X, Y = numpy.load(filespath,allow_pickle=True)\n",
        "\n",
        "X = X.reshape((X.shape[0], X.shape[1], 1))\n",
        "print(X.shape, Y.shape)\n"
      ],
      "metadata": {
        "id": "eRXsgvC8ygVf"
      },
      "execution_count": null,
      "outputs": []
    },
    {
      "cell_type": "code",
      "source": [
        "def cnn_builder(model_type):\n",
        "  input_length = 15000 if model_type == 'CNN_CONCAT' else 3000\n",
        "\n",
        "  inputs = keras.Input(shape=(input_length,1))\n",
        "\n",
        "  #left leg - short filters\n",
        "\n",
        "  x = layers.Conv1D( filters=64, kernel_size=50, strides=6 ,\n",
        "                    name = 'conv1')(inputs)\n",
        "  x = layers.BatchNormalization()(x)\n",
        "  x = layers.ReLU()(x)\n",
        "\n",
        "  x = layers.MaxPool1D(pool_size=8, strides=8, name='max1')(x)\n",
        "\n",
        "  x = layers.Dropout(rate=0.5  , name ='dropout1' )(x)\n",
        "\n",
        "  x = layers.Conv1D(filters=128, kernel_size=8, strides=1,\n",
        "                    name = 'conv2', padding = 'same' )(x)\n",
        "  x = layers.BatchNormalization()(x)\n",
        "  x = layers.ReLU()(x)\n",
        "\n",
        "  x = layers.Conv1D(filters=128, kernel_size=8, strides=1,\n",
        "                    name = 'conv3', padding = 'same' )(x)\n",
        "  x = layers.BatchNormalization()(x)\n",
        "  x = layers.ReLU()(x)\n",
        "\n",
        "  x = layers.Conv1D(filters=128, kernel_size=8, strides=1,\n",
        "                    name = 'conv4', padding = 'same')(x)\n",
        "  x = layers.BatchNormalization()(x)\n",
        "  x = layers.ReLU()(x)\n",
        "\n",
        "  x = layers.MaxPool1D(pool_size=4, strides=4, name = 'max2')(x)\n",
        "  x = layers.Flatten()(x)\n",
        "\n",
        "  #right leg - longer filters\n",
        "  x2 = layers.Conv1D( filters=64, kernel_size=400, strides=50 ,\n",
        "                    name = 'conv1_2')(inputs)\n",
        "  x2 = layers.BatchNormalization()(x2)\n",
        "  x2 = layers.ReLU()(x2)\n",
        "\n",
        "  x2 = layers.MaxPool1D(pool_size=4, strides=4, name='max1_2')(x2)\n",
        "\n",
        "  x2 = layers.Dropout(rate=0.5  , name ='dropout1_2' )(x2)\n",
        "\n",
        "  x2 = layers.Conv1D(filters=128, kernel_size=6, strides=1,\n",
        "                    name = 'conv2_2', padding='same' )(x2)\n",
        "  x2 = layers.BatchNormalization()(x2)\n",
        "  x2 = layers.ReLU()(x2)\n",
        "\n",
        "  x2 = layers.Conv1D(filters=128, kernel_size=6, strides=1,\n",
        "                    name = 'conv3_2', padding='same' )(x2)\n",
        "  x2 = layers.BatchNormalization()(x2)\n",
        "  x2 = layers.ReLU()(x2)\n",
        "\n",
        "  x2 = layers.Conv1D(filters=128, kernel_size=6, strides=1,\n",
        "                    name = 'conv4_2', padding='same' )(x2)\n",
        "  x2 = layers.BatchNormalization()(x2)\n",
        "  x2 = layers.ReLU()(x2)\n",
        "\n",
        "  x2 = layers.MaxPool1D(pool_size=2, strides=2, name = 'max2_2')(x2)\n",
        "\n",
        "  x2 = layers.Flatten()(x2)\n",
        "  #concatenate both legs\n",
        "  concat = layers.Concatenate(name = 'concat')([x, x2])\n",
        "\n",
        "  #final layer as softmax\n",
        "  outputs = layers.Dense(5, activation=tf.nn.softmax, name = 'soft') (concat)\n",
        "\n",
        "  model = keras.Model(inputs=inputs, outputs=outputs, name='sleep')\n",
        "\n",
        "  return model"
      ],
      "metadata": {
        "id": "FkPXEgaGyh9i"
      },
      "execution_count": null,
      "outputs": []
    },
    {
      "cell_type": "code",
      "source": [
        "n_split=5 # range between 10 - 20 folds\n",
        "\n",
        "skf = StratifiedKFold(n_splits=n_split, random_state=47,shuffle=True)\n",
        "\n",
        "cv_results = []\n",
        "k = 0\n",
        "for train_index,test_index in skf.split(X, Y):\n",
        "  begin_time_loop = dt.now()\n",
        "\n",
        "\n",
        "  X_train,X_test=X[train_index],X[test_index]\n",
        "  y_train,y_test=Y[train_index],Y[test_index]\n",
        "\n",
        "  k = k+1\n",
        "  a = np.zeros((3000, 1))\n",
        "\n",
        "  X_train = np.insert(X_train, 0, a, axis=0)\n",
        "  X_train = np.insert(X_train, 0, a, axis=0)\n",
        "  X_train = np.insert(X_train, -1, a, axis=0)\n",
        "  X_train = np.insert(X_train, -1, a, axis=0)\n",
        "  X_test = np.insert(X_test, 0, a, axis=0)\n",
        "  X_test = np.insert(X_test, 0, a, axis=0)\n",
        "  X_test = np.insert(X_test, -1, a, axis=0)\n",
        "  X_test = np.insert(X_test, -1, a, axis=0)\n",
        "\n",
        "  X_train2 = []\n",
        "  for i in range(len(X_train)-4):\n",
        "    j = i + 2\n",
        "    clip = np.array([X_train[j-2], X_train[j-1], X_train[j], X_train[j+1], X_train[j+2]]).reshape((15000,1))\n",
        "    X_train2.append(clip)\n",
        "\n",
        "  X_test2 = []\n",
        "  for i in range(len(X_test)-4):\n",
        "    j = i + 2\n",
        "    clip = np.array([X_test[j-2], X_test[j-1], X_test[j], X_test[j+1], X_test[j+2]]).reshape((15000,1))\n",
        "    X_test2.append(clip)\n",
        "\n",
        "  X_train_2=np.array(X_train2)\n",
        "  X_test_2=np.array(X_test2)\n",
        "\n",
        "  model = cnn_builder()\n",
        "\n",
        "  #compile and define Adam optimizer\n",
        "  model.compile(loss=keras.losses.SparseCategoricalCrossentropy(),\n",
        "              optimizer=keras.optimizers.Adam(learning_rate=0.001),\n",
        "              metrics=['accuracy'])\n",
        "\n",
        "  history = model.fit(X_train_2, y_train,\n",
        "                    batch_size=100,\n",
        "                    epochs=6, verbose= 0)\n",
        "\n",
        "\n",
        "  y_prob = model.predict(X_test_2)\n",
        "\n",
        "  y_pred = y_prob.argmax(axis=-1)\n",
        "\n",
        "  k_acc = accuracy_score(y_test,y_pred)\n",
        "  print(k_acc)\n",
        "\n",
        "  elapsed = dt.now() - begin_time_loop\n",
        "  print('Fold {} took {}'.format(str(k), str(elapsed)))\n",
        "\n",
        "  fold_result = {'fold': k, 'time': elapsed,'y_test': y_test, 'y_pred': y_pred, 'y_prob': y_prob,\n",
        "               'history': history.history, 'accuracy': k_acc }\n",
        "\n",
        "\n",
        "  del inputs, outputs, x1, x2, concat, model # delete model objects to guarantee each fold is trained from zero\n",
        "\n",
        "  cv_results.append(fold_result)"
      ],
      "metadata": {
        "id": "eGvh0WSFykwY"
      },
      "execution_count": null,
      "outputs": []
    }
  ]
}